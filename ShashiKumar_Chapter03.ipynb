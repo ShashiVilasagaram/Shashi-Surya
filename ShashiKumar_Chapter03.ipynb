{
 "cells": [
  {
   "cell_type": "markdown",
   "metadata": {},
   "source": [
    "# Chapter 03 - Processing, Wrangling and Visualizing Data"
   ]
  },
  {
   "cell_type": "markdown",
   "metadata": {},
   "source": [
    "# Handling Comma Separated Value Files\n",
    "\n",
    "This notebook showcases methods to extract data from CSVs:\n",
    "+ csv containing delimiter separated values\n",
    "+ csv containing tabular data"
   ]
  },
  {
   "cell_type": "code",
   "execution_count": 6,
   "metadata": {},
   "outputs": [],
   "source": [
    "# import required libraries\n",
    "import csv\n",
    "import pandas as pd\n",
    "from pprint import pprint"
   ]
  },
  {
   "cell_type": "markdown",
   "metadata": {},
   "source": [
    "## Utilities"
   ]
  },
  {
   "cell_type": "code",
   "execution_count": 7,
   "metadata": {},
   "outputs": [],
   "source": [
    "def print_basic_csv(file_name, delimiter=','):\n",
    "    \"\"\"This function extracts and prints csv content from given filename\n",
    "       Details: https://docs.python.org/2/library/csv.html\n",
    "    Args:\n",
    "        file_name (str): file path to be read\n",
    "        delimiter (str): delimiter used in csv. Default is comma (',')\n",
    "\n",
    "    Returns:\n",
    "        None\n",
    "\n",
    "    \"\"\"\n",
    "    csv_rows = list()\n",
    "    csv_attr_dict = dict()\n",
    "    csv_reader = None\n",
    "\n",
    "    # read csv\n",
    "    csv_reader = csv.reader(open(file_name, 'r'), delimiter=delimiter)\n",
    "        \n",
    "    # iterate and extract data    \n",
    "    for row in csv_reader:\n",
    "        print(row)\n",
    "        csv_rows.append(row)\n",
    "    \n",
    "    # prepare attribute lists\n",
    "    for col in csv_rows[0]:\n",
    "        csv_attr_dict[col]=list()\n",
    "    \n",
    "    # iterate and add data to attribute lists\n",
    "    for row in csv_rows[1:]:\n",
    "        csv_attr_dict['sno'].append(row[0])\n",
    "        csv_attr_dict['fruit'].append(row[1])\n",
    "        csv_attr_dict['color'].append(row[2])\n",
    "        csv_attr_dict['price'].append(row[3])\n",
    "    \n",
    "    # print the result\n",
    "    print(\"\\n\\n\")\n",
    "    print(\"CSV Attributes::\")\n",
    "    pprint(csv_attr_dict)\n",
    "            \n",
    "\n",
    "\n",
    "def print_tabular_data(file_name,delimiter=\",\"):\n",
    "    \"\"\"This function extracts and prints tabular csv content from given filename\n",
    "       Details: http://pandas.pydata.org/pandas-docs/stable/generated/pandas.read_csv.html\n",
    "    Args:\n",
    "        file_name (str): file path to be read\n",
    "        delimiter (str): delimiter used in csv. Default is comma ('\\t')\n",
    "\n",
    "    Returns:\n",
    "        None\n",
    "\n",
    "    \"\"\"\n",
    "    df = pd.read_csv(file_name,sep=delimiter)\n",
    "    print(df)"
   ]
  },
  {
   "cell_type": "markdown",
   "metadata": {},
   "source": [
    "## Parse using CSV module\n",
    "\n",
    "The print_basic_csv() function takes the input file name along with delimiter as input parameters."
   ]
  },
  {
   "cell_type": "code",
   "execution_count": 9,
   "metadata": {},
   "outputs": [
    {
     "name": "stdout",
     "output_type": "stream",
     "text": [
      "['sno', 'fruit', 'color', 'price']\n",
      "['1', 'apple', 'red', '110.85']\n",
      "['2', 'banana', 'yellow', '50.12']\n",
      "['3', 'mango', 'yellow', '70.29']\n",
      "['4', 'orange', 'orange', '80.00']\n",
      "['5', 'kiwi', 'green', '150.00']\n",
      "['6', 'pineapple', 'yellow', '90.00']\n",
      "['7', 'guava', 'green', '20.00']\n",
      "\n",
      "\n",
      "\n",
      "CSV Attributes::\n",
      "{'color': ['red', 'yellow', 'yellow', 'orange', 'green', 'yellow', 'green'],\n",
      " 'fruit': ['apple', 'banana', 'mango', 'orange', 'kiwi', 'pineapple', 'guava'],\n",
      " 'price': ['110.85', '50.12', '70.29', '80.00', '150.00', '90.00', '20.00'],\n",
      " 'sno': ['1', '2', '3', '4', '5', '6', '7']}\n"
     ]
    }
   ],
   "source": [
    "print_basic_csv(r'tabular_csv.csv')"
   ]
  },
  {
   "cell_type": "markdown",
   "metadata": {},
   "source": [
    "The first output in the above cell shows the data in the csv as-is.\n",
    "The second one is the parsed output showcasing the contents of the csv as key-value pairs\n",
    "\n",
    "\n",
    "--------"
   ]
  },
  {
   "cell_type": "markdown",
   "metadata": {},
   "source": [
    "## Parse using pandas\n",
    "\n",
    "The print_tabular_data() function takes the input file name along with delimiter as input parameters. It uses pandas to do the heavy lifting"
   ]
  },
  {
   "cell_type": "code",
   "execution_count": 11,
   "metadata": {},
   "outputs": [
    {
     "name": "stdout",
     "output_type": "stream",
     "text": [
      "   sno      fruit   color   price\n",
      "0    1      apple     red  110.85\n",
      "1    2     banana  yellow   50.12\n",
      "2    3      mango  yellow   70.29\n",
      "3    4     orange  orange   80.00\n",
      "4    5       kiwi   green  150.00\n",
      "5    6  pineapple  yellow   90.00\n",
      "6    7      guava   green   20.00\n"
     ]
    }
   ],
   "source": [
    "print_tabular_data(r'tabular_csv.csv')"
   ]
  },
  {
   "cell_type": "markdown",
   "metadata": {},
   "source": [
    "The output in the above cell shows how pandas reads a csv and prepares a tabular dataframe"
   ]
  },
  {
   "cell_type": "markdown",
   "metadata": {},
   "source": [
    "# Data Wrangling"
   ]
  },
  {
   "cell_type": "code",
   "execution_count": 12,
   "metadata": {},
   "outputs": [],
   "source": [
    "# import required libraries\n",
    "import random\n",
    "import datetime \n",
    "import numpy as np\n",
    "import pandas as pd\n",
    "from random import randrange\n",
    "from sklearn import preprocessing\n",
    "\n",
    "pd.options.mode.chained_assignment = None"
   ]
  },
  {
   "cell_type": "code",
   "execution_count": 13,
   "metadata": {},
   "outputs": [],
   "source": [
    "\n",
    "def _random_date(start,date_count):\n",
    "    \"\"\"This function generates a random date based on params\n",
    "    Args:\n",
    "        start (date object): the base date\n",
    "        date_count (int): number of dates to be generated\n",
    "    Returns:\n",
    "        list of random dates\n",
    "\n",
    "    \"\"\"\n",
    "    current = start\n",
    "    while date_count > 0:\n",
    "        curr = current + datetime.timedelta(days=randrange(42))\n",
    "        yield curr\n",
    "        date_count-=1\n",
    "\n",
    "\n",
    "def generate_sample_data(row_count=100):\n",
    "    \"\"\"This function generates a random transaction dataset\n",
    "    Args:\n",
    "        row_count (int): number of rows for the dataframe\n",
    "    Returns:\n",
    "        a pandas dataframe\n",
    "\n",
    "    \"\"\"\n",
    "    \n",
    "    # sentinels\n",
    "    startDate = datetime.datetime(2016, 1, 1,13)\n",
    "    serial_number_sentinel = 1000\n",
    "    user_id_sentinel = 5001\n",
    "    product_id_sentinel = 101\n",
    "    price_sentinel = 2000\n",
    "    \n",
    "    \n",
    "    # base list of attributes\n",
    "    data_dict = {\n",
    "    'Serial No': np.arange(row_count)+serial_number_sentinel,\n",
    "    'Date': np.random.permutation(pd.to_datetime([x.strftime(\"%d-%m-%Y\") \n",
    "                                                    for x in _random_date(startDate,\n",
    "                                                                          row_count)]).date\n",
    "                                  ),\n",
    "    'User ID': np.random.permutation(np.random.randint(0,\n",
    "                                                       row_count,\n",
    "                                                       size=int(row_count/10)) + user_id_sentinel).tolist()*10,\n",
    "    'Product ID': np.random.permutation(np.random.randint(0,\n",
    "                                                          row_count,\n",
    "                                                          size=int(row_count/10))+ product_id_sentinel).tolist()*10 ,\n",
    "    'Quantity Purchased': np.random.permutation(np.random.randint(1,\n",
    "                                                                  42,\n",
    "                                                                  size=row_count)),\n",
    "    'Price': np.round(np.abs(np.random.randn(row_count)+1)*price_sentinel,\n",
    "                      decimals=2),\n",
    "    'User Type':np.random.permutation([chr(random.randrange(97, 97 + 3 + 1)) \n",
    "                                            for i in range(row_count)])\n",
    "    }\n",
    "    \n",
    "    # introduce missing values\n",
    "    for index in range(int(np.sqrt(row_count))): \n",
    "        data_dict['Price'][np.argmax(data_dict['Price'] == random.choice(data_dict['Price']))] = np.nan\n",
    "        data_dict['User Type'][np.argmax(data_dict['User Type'] == random.choice(data_dict['User Type']))] = np.nan\n",
    "        data_dict['Date'][np.argmax(data_dict['Date'] == random.choice(data_dict['Date']))] = np.nan\n",
    "        data_dict['Product ID'][np.argmax(data_dict['Product ID'] == random.choice(data_dict['Product ID']))] = 0\n",
    "        data_dict['Serial No'][np.argmax(data_dict['Serial No'] == random.choice(data_dict['Serial No']))] = -1\n",
    "        data_dict['User ID'][np.argmax(data_dict['User ID'] == random.choice(data_dict['User ID']))] = -101\n",
    "        \n",
    "    \n",
    "    # create data frame\n",
    "    df = pd.DataFrame(data_dict)\n",
    "    \n",
    "    return df\n",
    "    \n",
    "\n",
    "def describe_dataframe(df=pd.DataFrame()):\n",
    "    \"\"\"This function generates descriptive stats of a dataframe\n",
    "    Args:\n",
    "        df (dataframe): the dataframe to be analyzed\n",
    "    Returns:\n",
    "        None\n",
    "\n",
    "    \"\"\"\n",
    "    print(\"\\n\\n\")\n",
    "    print(\"*\"*30)\n",
    "    print(\"About the Data\")\n",
    "    print(\"*\"*30)\n",
    "    \n",
    "    print(\"Number of rows::\",df.shape[0])\n",
    "    print(\"Number of columns::\",df.shape[1])\n",
    "    print(\"\\n\")\n",
    "    \n",
    "    print(\"Column Names::\",df.columns.values.tolist())\n",
    "    print(\"\\n\")\n",
    "    \n",
    "    print(\"Column Data Types::\\n\",df.dtypes)\n",
    "    print(\"\\n\")\n",
    "    \n",
    "    print(\"Columns with Missing Values::\",df.columns[df.isnull().any()].tolist())\n",
    "    print(\"\\n\")\n",
    "    \n",
    "    print(\"Number of rows with Missing Values::\",len(pd.isnull(df).any(1).nonzero()[0].tolist()))\n",
    "    print(\"\\n\")\n",
    "    \n",
    "    print(\"Sample Indices with missing data::\",pd.isnull(df).any(1).nonzero()[0].tolist()[0:5])\n",
    "    print(\"\\n\")\n",
    "    \n",
    "    print(\"General Stats::\")\n",
    "    print(df.info())\n",
    "    print(\"\\n\")\n",
    "    \n",
    "    print(\"Summary Stats::\")\n",
    "    print(df.describe())\n",
    "    print(\"\\n\")\n",
    "    \n",
    "    print(\"Dataframe Sample Rows::\")\n",
    "    display(df.head(5))\n",
    "    \n",
    "def cleanup_column_names(df,rename_dict={},do_inplace=True):\n",
    "    \"\"\"This function renames columns of a pandas dataframe\n",
    "       It converts column names to snake case if rename_dict is not passed. \n",
    "    Args:\n",
    "        rename_dict (dict): keys represent old column names and values point to \n",
    "                            newer ones\n",
    "        do_inplace (bool): flag to update existing dataframe or return a new one\n",
    "    Returns:\n",
    "        pandas dataframe if do_inplace is set to False, None otherwise\n",
    "\n",
    "    \"\"\"\n",
    "    if not rename_dict:\n",
    "        return df.rename(columns={col: col.lower().replace(' ','_') \n",
    "                    for col in df.columns.values.tolist()}, \n",
    "                  inplace=do_inplace)\n",
    "    else:\n",
    "        return df.rename(columns=rename_dict,inplace=do_inplace)\n",
    "\n",
    "def expand_user_type(u_type):\n",
    "    \"\"\"This function maps user types to user classes\n",
    "    Args:\n",
    "        u_type (str): user type value\n",
    "    Returns:\n",
    "        (str) user_class value\n",
    "\n",
    "    \"\"\"\n",
    "    if u_type in ['a','b']:\n",
    "        return 'new'\n",
    "    elif u_type == 'c':\n",
    "        return 'existing'\n",
    "    elif u_type == 'd':\n",
    "        return 'loyal_existing'\n",
    "    else:\n",
    "        return 'error'"
   ]
  },
  {
   "cell_type": "markdown",
   "metadata": {},
   "source": [
    "# Generate a Sample Dataset"
   ]
  },
  {
   "cell_type": "code",
   "execution_count": 14,
   "metadata": {},
   "outputs": [],
   "source": [
    "df = generate_sample_data(row_count=1000)"
   ]
  },
  {
   "cell_type": "code",
   "execution_count": 15,
   "metadata": {},
   "outputs": [
    {
     "name": "stdout",
     "output_type": "stream",
     "text": [
      "\n",
      "\n",
      "\n",
      "******************************\n",
      "About the Data\n",
      "******************************\n",
      "Number of rows:: 1000\n",
      "Number of columns:: 7\n",
      "\n",
      "\n",
      "Column Names:: ['Serial No', 'Date', 'User ID', 'Product ID', 'Quantity Purchased', 'Price', 'User Type']\n",
      "\n",
      "\n",
      "Column Data Types::\n",
      " Serial No               int32\n",
      "Date                   object\n",
      "User ID                 int64\n",
      "Product ID              int64\n",
      "Quantity Purchased      int32\n",
      "Price                 float64\n",
      "User Type              object\n",
      "dtype: object\n",
      "\n",
      "\n",
      "Columns with Missing Values:: ['Date', 'Price']\n",
      "\n",
      "\n",
      "Number of rows with Missing Values:: 61\n",
      "\n",
      "\n",
      "Sample Indices with missing data:: [0, 1, 2, 4, 6]\n",
      "\n",
      "\n",
      "General Stats::\n"
     ]
    },
    {
     "name": "stderr",
     "output_type": "stream",
     "text": [
      "C:\\Users\\Shashi Surya\\Anaconda3\\lib\\site-packages\\ipykernel_launcher.py:98: FutureWarning: Series.nonzero() is deprecated and will be removed in a future version.Use Series.to_numpy().nonzero() instead\n",
      "C:\\Users\\Shashi Surya\\Anaconda3\\lib\\site-packages\\ipykernel_launcher.py:101: FutureWarning: Series.nonzero() is deprecated and will be removed in a future version.Use Series.to_numpy().nonzero() instead\n"
     ]
    },
    {
     "name": "stdout",
     "output_type": "stream",
     "text": [
      "<class 'pandas.core.frame.DataFrame'>\n",
      "RangeIndex: 1000 entries, 0 to 999\n",
      "Data columns (total 7 columns):\n",
      "Serial No             1000 non-null int32\n",
      "Date                  970 non-null object\n",
      "User ID               1000 non-null int64\n",
      "Product ID            1000 non-null int64\n",
      "Quantity Purchased    1000 non-null int32\n",
      "Price                 969 non-null float64\n",
      "User Type             1000 non-null object\n",
      "dtypes: float64(1), int32(2), int64(2), object(2)\n",
      "memory usage: 47.0+ KB\n",
      "None\n",
      "\n",
      "\n",
      "Summary Stats::\n",
      "         Serial No      User ID  Product ID  Quantity Purchased        Price\n",
      "count  1000.000000  1000.000000  1000.00000          1000.00000   969.000000\n",
      "mean   1450.289000  5518.983000   544.39000            21.83000  2253.979474\n",
      "std     385.237526   343.038695   292.22271            12.09667  1524.992949\n",
      "min      -1.000000  -101.000000     0.00000             1.00000     5.020000\n",
      "25%    1222.750000  5238.000000   267.75000            11.00000  1011.140000\n",
      "50%    1479.500000  5544.000000   544.50000            23.00000  2077.320000\n",
      "75%    1738.250000  5751.250000   777.00000            33.00000  3201.730000\n",
      "max    1999.000000  5998.000000  1098.00000            41.00000  8032.350000\n",
      "\n",
      "\n",
      "Dataframe Sample Rows::\n"
     ]
    },
    {
     "data": {
      "text/html": [
       "<div>\n",
       "<style scoped>\n",
       "    .dataframe tbody tr th:only-of-type {\n",
       "        vertical-align: middle;\n",
       "    }\n",
       "\n",
       "    .dataframe tbody tr th {\n",
       "        vertical-align: top;\n",
       "    }\n",
       "\n",
       "    .dataframe thead th {\n",
       "        text-align: right;\n",
       "    }\n",
       "</style>\n",
       "<table border=\"1\" class=\"dataframe\">\n",
       "  <thead>\n",
       "    <tr style=\"text-align: right;\">\n",
       "      <th></th>\n",
       "      <th>Serial No</th>\n",
       "      <th>Date</th>\n",
       "      <th>User ID</th>\n",
       "      <th>Product ID</th>\n",
       "      <th>Quantity Purchased</th>\n",
       "      <th>Price</th>\n",
       "      <th>User Type</th>\n",
       "    </tr>\n",
       "  </thead>\n",
       "  <tbody>\n",
       "    <tr>\n",
       "      <th>0</th>\n",
       "      <td>1000</td>\n",
       "      <td>NaN</td>\n",
       "      <td>-101</td>\n",
       "      <td>0</td>\n",
       "      <td>18</td>\n",
       "      <td>1623.49</td>\n",
       "      <td>n</td>\n",
       "    </tr>\n",
       "    <tr>\n",
       "      <th>1</th>\n",
       "      <td>1001</td>\n",
       "      <td>NaN</td>\n",
       "      <td>5712</td>\n",
       "      <td>694</td>\n",
       "      <td>33</td>\n",
       "      <td>1691.05</td>\n",
       "      <td>n</td>\n",
       "    </tr>\n",
       "    <tr>\n",
       "      <th>2</th>\n",
       "      <td>1002</td>\n",
       "      <td>NaN</td>\n",
       "      <td>5351</td>\n",
       "      <td>1095</td>\n",
       "      <td>32</td>\n",
       "      <td>488.13</td>\n",
       "      <td>n</td>\n",
       "    </tr>\n",
       "    <tr>\n",
       "      <th>3</th>\n",
       "      <td>1003</td>\n",
       "      <td>2016-09-01</td>\n",
       "      <td>5007</td>\n",
       "      <td>269</td>\n",
       "      <td>5</td>\n",
       "      <td>1398.15</td>\n",
       "      <td>n</td>\n",
       "    </tr>\n",
       "    <tr>\n",
       "      <th>4</th>\n",
       "      <td>1004</td>\n",
       "      <td>NaN</td>\n",
       "      <td>5308</td>\n",
       "      <td>162</td>\n",
       "      <td>18</td>\n",
       "      <td>3501.47</td>\n",
       "      <td>n</td>\n",
       "    </tr>\n",
       "  </tbody>\n",
       "</table>\n",
       "</div>"
      ],
      "text/plain": [
       "   Serial No        Date  User ID  Product ID  Quantity Purchased    Price  \\\n",
       "0       1000         NaN     -101           0                  18  1623.49   \n",
       "1       1001         NaN     5712         694                  33  1691.05   \n",
       "2       1002         NaN     5351        1095                  32   488.13   \n",
       "3       1003  2016-09-01     5007         269                   5  1398.15   \n",
       "4       1004         NaN     5308         162                  18  3501.47   \n",
       "\n",
       "  User Type  \n",
       "0         n  \n",
       "1         n  \n",
       "2         n  \n",
       "3         n  \n",
       "4         n  "
      ]
     },
     "metadata": {},
     "output_type": "display_data"
    }
   ],
   "source": [
    "#describe the dataset\n",
    "describe_dataframe(df)"
   ]
  },
  {
   "cell_type": "markdown",
   "metadata": {},
   "source": [
    "# Rename Columns"
   ]
  },
  {
   "cell_type": "code",
   "execution_count": 16,
   "metadata": {},
   "outputs": [
    {
     "name": "stdout",
     "output_type": "stream",
     "text": [
      "Dataframe columns:\n",
      "['Serial No', 'Date', 'User ID', 'Product ID', 'Quantity Purchased', 'Price', 'User Type']\n"
     ]
    }
   ],
   "source": [
    "print(\"Dataframe columns:\\n{}\".format(df.columns.tolist()))"
   ]
  },
  {
   "cell_type": "code",
   "execution_count": 17,
   "metadata": {},
   "outputs": [],
   "source": [
    "cleanup_column_names(df)"
   ]
  },
  {
   "cell_type": "code",
   "execution_count": 18,
   "metadata": {},
   "outputs": [
    {
     "name": "stdout",
     "output_type": "stream",
     "text": [
      "Dataframe columns:\n",
      "['serial_no', 'date', 'user_id', 'product_id', 'quantity_purchased', 'price', 'user_type']\n"
     ]
    }
   ],
   "source": [
    "print(\"Dataframe columns:\\n{}\".format(df.columns.tolist()))"
   ]
  },
  {
   "cell_type": "markdown",
   "metadata": {},
   "source": [
    "# Sort rows on defined attributes"
   ]
  },
  {
   "cell_type": "code",
   "execution_count": 19,
   "metadata": {},
   "outputs": [
    {
     "data": {
      "text/html": [
       "<div>\n",
       "<style scoped>\n",
       "    .dataframe tbody tr th:only-of-type {\n",
       "        vertical-align: middle;\n",
       "    }\n",
       "\n",
       "    .dataframe tbody tr th {\n",
       "        vertical-align: top;\n",
       "    }\n",
       "\n",
       "    .dataframe thead th {\n",
       "        text-align: right;\n",
       "    }\n",
       "</style>\n",
       "<table border=\"1\" class=\"dataframe\">\n",
       "  <thead>\n",
       "    <tr style=\"text-align: right;\">\n",
       "      <th></th>\n",
       "      <th>serial_no</th>\n",
       "      <th>date</th>\n",
       "      <th>user_id</th>\n",
       "      <th>product_id</th>\n",
       "      <th>quantity_purchased</th>\n",
       "      <th>price</th>\n",
       "      <th>user_type</th>\n",
       "    </tr>\n",
       "  </thead>\n",
       "  <tbody>\n",
       "    <tr>\n",
       "      <th>404</th>\n",
       "      <td>-1</td>\n",
       "      <td>2016-09-02</td>\n",
       "      <td>5308</td>\n",
       "      <td>162</td>\n",
       "      <td>40</td>\n",
       "      <td>6029.44</td>\n",
       "      <td>a</td>\n",
       "    </tr>\n",
       "    <tr>\n",
       "      <th>558</th>\n",
       "      <td>-1</td>\n",
       "      <td>2016-01-25</td>\n",
       "      <td>5500</td>\n",
       "      <td>574</td>\n",
       "      <td>41</td>\n",
       "      <td>5428.27</td>\n",
       "      <td>a</td>\n",
       "    </tr>\n",
       "    <tr>\n",
       "      <th>961</th>\n",
       "      <td>-1</td>\n",
       "      <td>2016-07-02</td>\n",
       "      <td>5668</td>\n",
       "      <td>1037</td>\n",
       "      <td>19</td>\n",
       "      <td>5146.36</td>\n",
       "      <td>b</td>\n",
       "    </tr>\n",
       "    <tr>\n",
       "      <th>66</th>\n",
       "      <td>-1</td>\n",
       "      <td>2016-01-28</td>\n",
       "      <td>5078</td>\n",
       "      <td>1070</td>\n",
       "      <td>39</td>\n",
       "      <td>4892.49</td>\n",
       "      <td>a</td>\n",
       "    </tr>\n",
       "    <tr>\n",
       "      <th>736</th>\n",
       "      <td>-1</td>\n",
       "      <td>2016-01-22</td>\n",
       "      <td>5767</td>\n",
       "      <td>192</td>\n",
       "      <td>7</td>\n",
       "      <td>4840.33</td>\n",
       "      <td>d</td>\n",
       "    </tr>\n",
       "  </tbody>\n",
       "</table>\n",
       "</div>"
      ],
      "text/plain": [
       "     serial_no        date  user_id  product_id  quantity_purchased    price  \\\n",
       "404         -1  2016-09-02     5308         162                  40  6029.44   \n",
       "558         -1  2016-01-25     5500         574                  41  5428.27   \n",
       "961         -1  2016-07-02     5668        1037                  19  5146.36   \n",
       "66          -1  2016-01-28     5078        1070                  39  4892.49   \n",
       "736         -1  2016-01-22     5767         192                   7  4840.33   \n",
       "\n",
       "    user_type  \n",
       "404         a  \n",
       "558         a  \n",
       "961         b  \n",
       "66          a  \n",
       "736         d  "
      ]
     },
     "metadata": {},
     "output_type": "display_data"
    }
   ],
   "source": [
    "display(df.sort_values(['serial_no', 'price'], \n",
    "                         ascending=[True, False]).head())"
   ]
  },
  {
   "cell_type": "markdown",
   "metadata": {},
   "source": [
    "# Rearrange Columns in Dataframe"
   ]
  },
  {
   "cell_type": "code",
   "execution_count": 20,
   "metadata": {},
   "outputs": [
    {
     "data": {
      "text/html": [
       "<div>\n",
       "<style scoped>\n",
       "    .dataframe tbody tr th:only-of-type {\n",
       "        vertical-align: middle;\n",
       "    }\n",
       "\n",
       "    .dataframe tbody tr th {\n",
       "        vertical-align: top;\n",
       "    }\n",
       "\n",
       "    .dataframe thead th {\n",
       "        text-align: right;\n",
       "    }\n",
       "</style>\n",
       "<table border=\"1\" class=\"dataframe\">\n",
       "  <thead>\n",
       "    <tr style=\"text-align: right;\">\n",
       "      <th></th>\n",
       "      <th>serial_no</th>\n",
       "      <th>date</th>\n",
       "      <th>user_id</th>\n",
       "      <th>user_type</th>\n",
       "      <th>product_id</th>\n",
       "      <th>quantity_purchased</th>\n",
       "      <th>price</th>\n",
       "    </tr>\n",
       "  </thead>\n",
       "  <tbody>\n",
       "    <tr>\n",
       "      <th>0</th>\n",
       "      <td>1000</td>\n",
       "      <td>NaN</td>\n",
       "      <td>-101</td>\n",
       "      <td>n</td>\n",
       "      <td>0</td>\n",
       "      <td>18</td>\n",
       "      <td>1623.49</td>\n",
       "    </tr>\n",
       "    <tr>\n",
       "      <th>1</th>\n",
       "      <td>1001</td>\n",
       "      <td>NaN</td>\n",
       "      <td>5712</td>\n",
       "      <td>n</td>\n",
       "      <td>694</td>\n",
       "      <td>33</td>\n",
       "      <td>1691.05</td>\n",
       "    </tr>\n",
       "    <tr>\n",
       "      <th>2</th>\n",
       "      <td>1002</td>\n",
       "      <td>NaN</td>\n",
       "      <td>5351</td>\n",
       "      <td>n</td>\n",
       "      <td>1095</td>\n",
       "      <td>32</td>\n",
       "      <td>488.13</td>\n",
       "    </tr>\n",
       "    <tr>\n",
       "      <th>3</th>\n",
       "      <td>1003</td>\n",
       "      <td>2016-09-01</td>\n",
       "      <td>5007</td>\n",
       "      <td>n</td>\n",
       "      <td>269</td>\n",
       "      <td>5</td>\n",
       "      <td>1398.15</td>\n",
       "    </tr>\n",
       "    <tr>\n",
       "      <th>4</th>\n",
       "      <td>1004</td>\n",
       "      <td>NaN</td>\n",
       "      <td>5308</td>\n",
       "      <td>n</td>\n",
       "      <td>162</td>\n",
       "      <td>18</td>\n",
       "      <td>3501.47</td>\n",
       "    </tr>\n",
       "  </tbody>\n",
       "</table>\n",
       "</div>"
      ],
      "text/plain": [
       "   serial_no        date  user_id user_type  product_id  quantity_purchased  \\\n",
       "0       1000         NaN     -101         n           0                  18   \n",
       "1       1001         NaN     5712         n         694                  33   \n",
       "2       1002         NaN     5351         n        1095                  32   \n",
       "3       1003  2016-09-01     5007         n         269                   5   \n",
       "4       1004         NaN     5308         n         162                  18   \n",
       "\n",
       "     price  \n",
       "0  1623.49  \n",
       "1  1691.05  \n",
       "2   488.13  \n",
       "3  1398.15  \n",
       "4  3501.47  "
      ]
     },
     "metadata": {},
     "output_type": "display_data"
    }
   ],
   "source": [
    "display(df[['serial_no','date','user_id','user_type',\n",
    "              'product_id','quantity_purchased','price']].head())"
   ]
  },
  {
   "cell_type": "markdown",
   "metadata": {},
   "source": [
    "# Filtering Columns"
   ]
  },
  {
   "cell_type": "markdown",
   "metadata": {},
   "source": [
    "#### Using Column Index"
   ]
  },
  {
   "cell_type": "code",
   "execution_count": 21,
   "metadata": {},
   "outputs": [
    {
     "name": "stdout",
     "output_type": "stream",
     "text": [
      "[   0  694 1095  269  162  264  816  566  201  213]\n"
     ]
    }
   ],
   "source": [
    "# print 10 values from column at index 3\n",
    "print(df.iloc[:,3].values[0:10])"
   ]
  },
  {
   "cell_type": "markdown",
   "metadata": {},
   "source": [
    "#### Using Column Datatype"
   ]
  },
  {
   "cell_type": "code",
   "execution_count": 22,
   "metadata": {},
   "outputs": [
    {
     "name": "stdout",
     "output_type": "stream",
     "text": [
      "[1623.49 1691.05  488.13 1398.15 3501.47 4426.06 2900.63 1491.   1506.47\n",
      " 1010.83]\n"
     ]
    }
   ],
   "source": [
    "# print 10 values of columns with data type float\n",
    "print(df.select_dtypes(include=['float64']).values[:10,0])"
   ]
  },
  {
   "cell_type": "markdown",
   "metadata": {},
   "source": [
    "# Filtering Rows"
   ]
  },
  {
   "cell_type": "raw",
   "metadata": {},
   "source": [
    "Select Specific Rows"
   ]
  },
  {
   "cell_type": "code",
   "execution_count": 26,
   "metadata": {},
   "outputs": [
    {
     "data": {
      "text/html": [
       "<div>\n",
       "<style scoped>\n",
       "    .dataframe tbody tr th:only-of-type {\n",
       "        vertical-align: middle;\n",
       "    }\n",
       "\n",
       "    .dataframe tbody tr th {\n",
       "        vertical-align: top;\n",
       "    }\n",
       "\n",
       "    .dataframe thead th {\n",
       "        text-align: right;\n",
       "    }\n",
       "</style>\n",
       "<table border=\"1\" class=\"dataframe\">\n",
       "  <thead>\n",
       "    <tr style=\"text-align: right;\">\n",
       "      <th></th>\n",
       "      <th>serial_no</th>\n",
       "      <th>date</th>\n",
       "      <th>user_id</th>\n",
       "      <th>product_id</th>\n",
       "      <th>quantity_purchased</th>\n",
       "      <th>price</th>\n",
       "      <th>user_type</th>\n",
       "    </tr>\n",
       "  </thead>\n",
       "  <tbody>\n",
       "    <tr>\n",
       "      <th>10</th>\n",
       "      <td>1010</td>\n",
       "      <td>2016-05-02</td>\n",
       "      <td>5153</td>\n",
       "      <td>289</td>\n",
       "      <td>38</td>\n",
       "      <td>3161.56</td>\n",
       "      <td>n</td>\n",
       "    </tr>\n",
       "    <tr>\n",
       "      <th>501</th>\n",
       "      <td>1501</td>\n",
       "      <td>2016-02-02</td>\n",
       "      <td>5712</td>\n",
       "      <td>694</td>\n",
       "      <td>13</td>\n",
       "      <td>273.62</td>\n",
       "      <td>a</td>\n",
       "    </tr>\n",
       "    <tr>\n",
       "      <th>20</th>\n",
       "      <td>1020</td>\n",
       "      <td>2016-05-02</td>\n",
       "      <td>5118</td>\n",
       "      <td>545</td>\n",
       "      <td>5</td>\n",
       "      <td>2519.45</td>\n",
       "      <td>n</td>\n",
       "    </tr>\n",
       "  </tbody>\n",
       "</table>\n",
       "</div>"
      ],
      "text/plain": [
       "     serial_no        date  user_id  product_id  quantity_purchased    price  \\\n",
       "10        1010  2016-05-02     5153         289                  38  3161.56   \n",
       "501       1501  2016-02-02     5712         694                  13   273.62   \n",
       "20        1020  2016-05-02     5118         545                   5  2519.45   \n",
       "\n",
       "    user_type  \n",
       "10          n  \n",
       "501         a  \n",
       "20          n  "
      ]
     },
     "metadata": {},
     "output_type": "display_data"
    }
   ],
   "source": [
    "display(df.iloc[[10,501,20]])"
   ]
  },
  {
   "cell_type": "markdown",
   "metadata": {},
   "source": [
    " #### Exclude Specific Row indices"
   ]
  },
  {
   "cell_type": "code",
   "execution_count": 27,
   "metadata": {},
   "outputs": [
    {
     "data": {
      "text/html": [
       "<div>\n",
       "<style scoped>\n",
       "    .dataframe tbody tr th:only-of-type {\n",
       "        vertical-align: middle;\n",
       "    }\n",
       "\n",
       "    .dataframe tbody tr th {\n",
       "        vertical-align: top;\n",
       "    }\n",
       "\n",
       "    .dataframe thead th {\n",
       "        text-align: right;\n",
       "    }\n",
       "</style>\n",
       "<table border=\"1\" class=\"dataframe\">\n",
       "  <thead>\n",
       "    <tr style=\"text-align: right;\">\n",
       "      <th></th>\n",
       "      <th>serial_no</th>\n",
       "      <th>date</th>\n",
       "      <th>user_id</th>\n",
       "      <th>product_id</th>\n",
       "      <th>quantity_purchased</th>\n",
       "      <th>price</th>\n",
       "      <th>user_type</th>\n",
       "    </tr>\n",
       "  </thead>\n",
       "  <tbody>\n",
       "    <tr>\n",
       "      <th>1</th>\n",
       "      <td>1001</td>\n",
       "      <td>NaN</td>\n",
       "      <td>5712</td>\n",
       "      <td>694</td>\n",
       "      <td>33</td>\n",
       "      <td>1691.05</td>\n",
       "      <td>n</td>\n",
       "    </tr>\n",
       "    <tr>\n",
       "      <th>2</th>\n",
       "      <td>1002</td>\n",
       "      <td>NaN</td>\n",
       "      <td>5351</td>\n",
       "      <td>1095</td>\n",
       "      <td>32</td>\n",
       "      <td>488.13</td>\n",
       "      <td>n</td>\n",
       "    </tr>\n",
       "    <tr>\n",
       "      <th>3</th>\n",
       "      <td>1003</td>\n",
       "      <td>2016-09-01</td>\n",
       "      <td>5007</td>\n",
       "      <td>269</td>\n",
       "      <td>5</td>\n",
       "      <td>1398.15</td>\n",
       "      <td>n</td>\n",
       "    </tr>\n",
       "    <tr>\n",
       "      <th>4</th>\n",
       "      <td>1004</td>\n",
       "      <td>NaN</td>\n",
       "      <td>5308</td>\n",
       "      <td>162</td>\n",
       "      <td>18</td>\n",
       "      <td>3501.47</td>\n",
       "      <td>n</td>\n",
       "    </tr>\n",
       "    <tr>\n",
       "      <th>5</th>\n",
       "      <td>1005</td>\n",
       "      <td>2016-01-20</td>\n",
       "      <td>5420</td>\n",
       "      <td>264</td>\n",
       "      <td>40</td>\n",
       "      <td>4426.06</td>\n",
       "      <td>n</td>\n",
       "    </tr>\n",
       "  </tbody>\n",
       "</table>\n",
       "</div>"
      ],
      "text/plain": [
       "   serial_no        date  user_id  product_id  quantity_purchased    price  \\\n",
       "1       1001         NaN     5712         694                  33  1691.05   \n",
       "2       1002         NaN     5351        1095                  32   488.13   \n",
       "3       1003  2016-09-01     5007         269                   5  1398.15   \n",
       "4       1004         NaN     5308         162                  18  3501.47   \n",
       "5       1005  2016-01-20     5420         264                  40  4426.06   \n",
       "\n",
       "  user_type  \n",
       "1         n  \n",
       "2         n  \n",
       "3         n  \n",
       "4         n  \n",
       "5         n  "
      ]
     },
     "metadata": {},
     "output_type": "display_data"
    }
   ],
   "source": [
    "display(df.drop([0,24,51], axis=0).head())"
   ]
  },
  {
   "cell_type": "markdown",
   "metadata": {},
   "source": [
    "#### Conditional Filtering"
   ]
  },
  {
   "cell_type": "code",
   "execution_count": 28,
   "metadata": {},
   "outputs": [
    {
     "data": {
      "text/html": [
       "<div>\n",
       "<style scoped>\n",
       "    .dataframe tbody tr th:only-of-type {\n",
       "        vertical-align: middle;\n",
       "    }\n",
       "\n",
       "    .dataframe tbody tr th {\n",
       "        vertical-align: top;\n",
       "    }\n",
       "\n",
       "    .dataframe thead th {\n",
       "        text-align: right;\n",
       "    }\n",
       "</style>\n",
       "<table border=\"1\" class=\"dataframe\">\n",
       "  <thead>\n",
       "    <tr style=\"text-align: right;\">\n",
       "      <th></th>\n",
       "      <th>serial_no</th>\n",
       "      <th>date</th>\n",
       "      <th>user_id</th>\n",
       "      <th>product_id</th>\n",
       "      <th>quantity_purchased</th>\n",
       "      <th>price</th>\n",
       "      <th>user_type</th>\n",
       "    </tr>\n",
       "  </thead>\n",
       "  <tbody>\n",
       "    <tr>\n",
       "      <th>1</th>\n",
       "      <td>1001</td>\n",
       "      <td>NaN</td>\n",
       "      <td>5712</td>\n",
       "      <td>694</td>\n",
       "      <td>33</td>\n",
       "      <td>1691.05</td>\n",
       "      <td>n</td>\n",
       "    </tr>\n",
       "    <tr>\n",
       "      <th>2</th>\n",
       "      <td>1002</td>\n",
       "      <td>NaN</td>\n",
       "      <td>5351</td>\n",
       "      <td>1095</td>\n",
       "      <td>32</td>\n",
       "      <td>488.13</td>\n",
       "      <td>n</td>\n",
       "    </tr>\n",
       "    <tr>\n",
       "      <th>5</th>\n",
       "      <td>1005</td>\n",
       "      <td>2016-01-20</td>\n",
       "      <td>5420</td>\n",
       "      <td>264</td>\n",
       "      <td>40</td>\n",
       "      <td>4426.06</td>\n",
       "      <td>n</td>\n",
       "    </tr>\n",
       "    <tr>\n",
       "      <th>6</th>\n",
       "      <td>1006</td>\n",
       "      <td>NaN</td>\n",
       "      <td>5779</td>\n",
       "      <td>816</td>\n",
       "      <td>40</td>\n",
       "      <td>2900.63</td>\n",
       "      <td>n</td>\n",
       "    </tr>\n",
       "    <tr>\n",
       "      <th>8</th>\n",
       "      <td>1008</td>\n",
       "      <td>NaN</td>\n",
       "      <td>5638</td>\n",
       "      <td>201</td>\n",
       "      <td>40</td>\n",
       "      <td>1506.47</td>\n",
       "      <td>n</td>\n",
       "    </tr>\n",
       "  </tbody>\n",
       "</table>\n",
       "</div>"
      ],
      "text/plain": [
       "   serial_no        date  user_id  product_id  quantity_purchased    price  \\\n",
       "1       1001         NaN     5712         694                  33  1691.05   \n",
       "2       1002         NaN     5351        1095                  32   488.13   \n",
       "5       1005  2016-01-20     5420         264                  40  4426.06   \n",
       "6       1006         NaN     5779         816                  40  2900.63   \n",
       "8       1008         NaN     5638         201                  40  1506.47   \n",
       "\n",
       "  user_type  \n",
       "1         n  \n",
       "2         n  \n",
       "5         n  \n",
       "6         n  \n",
       "8         n  "
      ]
     },
     "metadata": {},
     "output_type": "display_data"
    }
   ],
   "source": [
    "display(df[df.quantity_purchased>25].head())"
   ]
  },
  {
   "cell_type": "markdown",
   "metadata": {},
   "source": [
    "#### Offset from top of the dataframe"
   ]
  },
  {
   "cell_type": "code",
   "execution_count": 29,
   "metadata": {},
   "outputs": [
    {
     "data": {
      "text/html": [
       "<div>\n",
       "<style scoped>\n",
       "    .dataframe tbody tr th:only-of-type {\n",
       "        vertical-align: middle;\n",
       "    }\n",
       "\n",
       "    .dataframe tbody tr th {\n",
       "        vertical-align: top;\n",
       "    }\n",
       "\n",
       "    .dataframe thead th {\n",
       "        text-align: right;\n",
       "    }\n",
       "</style>\n",
       "<table border=\"1\" class=\"dataframe\">\n",
       "  <thead>\n",
       "    <tr style=\"text-align: right;\">\n",
       "      <th></th>\n",
       "      <th>serial_no</th>\n",
       "      <th>date</th>\n",
       "      <th>user_id</th>\n",
       "      <th>product_id</th>\n",
       "      <th>quantity_purchased</th>\n",
       "      <th>price</th>\n",
       "      <th>user_type</th>\n",
       "    </tr>\n",
       "  </thead>\n",
       "  <tbody>\n",
       "    <tr>\n",
       "      <th>100</th>\n",
       "      <td>1100</td>\n",
       "      <td>2016-11-01</td>\n",
       "      <td>5336</td>\n",
       "      <td>180</td>\n",
       "      <td>35</td>\n",
       "      <td>2763.78</td>\n",
       "      <td>c</td>\n",
       "    </tr>\n",
       "    <tr>\n",
       "      <th>101</th>\n",
       "      <td>1101</td>\n",
       "      <td>2016-08-02</td>\n",
       "      <td>5712</td>\n",
       "      <td>694</td>\n",
       "      <td>37</td>\n",
       "      <td>2693.63</td>\n",
       "      <td>b</td>\n",
       "    </tr>\n",
       "    <tr>\n",
       "      <th>102</th>\n",
       "      <td>1102</td>\n",
       "      <td>NaN</td>\n",
       "      <td>5351</td>\n",
       "      <td>1095</td>\n",
       "      <td>34</td>\n",
       "      <td>5091.96</td>\n",
       "      <td>a</td>\n",
       "    </tr>\n",
       "    <tr>\n",
       "      <th>103</th>\n",
       "      <td>1103</td>\n",
       "      <td>2016-01-02</td>\n",
       "      <td>5007</td>\n",
       "      <td>269</td>\n",
       "      <td>31</td>\n",
       "      <td>4958.95</td>\n",
       "      <td>c</td>\n",
       "    </tr>\n",
       "    <tr>\n",
       "      <th>104</th>\n",
       "      <td>1104</td>\n",
       "      <td>2016-07-02</td>\n",
       "      <td>5308</td>\n",
       "      <td>162</td>\n",
       "      <td>40</td>\n",
       "      <td>2496.74</td>\n",
       "      <td>b</td>\n",
       "    </tr>\n",
       "  </tbody>\n",
       "</table>\n",
       "</div>"
      ],
      "text/plain": [
       "     serial_no        date  user_id  product_id  quantity_purchased    price  \\\n",
       "100       1100  2016-11-01     5336         180                  35  2763.78   \n",
       "101       1101  2016-08-02     5712         694                  37  2693.63   \n",
       "102       1102         NaN     5351        1095                  34  5091.96   \n",
       "103       1103  2016-01-02     5007         269                  31  4958.95   \n",
       "104       1104  2016-07-02     5308         162                  40  2496.74   \n",
       "\n",
       "    user_type  \n",
       "100         c  \n",
       "101         b  \n",
       "102         a  \n",
       "103         c  \n",
       "104         b  "
      ]
     },
     "metadata": {},
     "output_type": "display_data"
    }
   ],
   "source": [
    "display(df[100:].head())"
   ]
  },
  {
   "cell_type": "raw",
   "metadata": {},
   "source": [
    "Offset from bottom of the dataframe"
   ]
  },
  {
   "cell_type": "code",
   "execution_count": 30,
   "metadata": {},
   "outputs": [
    {
     "data": {
      "text/html": [
       "<div>\n",
       "<style scoped>\n",
       "    .dataframe tbody tr th:only-of-type {\n",
       "        vertical-align: middle;\n",
       "    }\n",
       "\n",
       "    .dataframe tbody tr th {\n",
       "        vertical-align: top;\n",
       "    }\n",
       "\n",
       "    .dataframe thead th {\n",
       "        text-align: right;\n",
       "    }\n",
       "</style>\n",
       "<table border=\"1\" class=\"dataframe\">\n",
       "  <thead>\n",
       "    <tr style=\"text-align: right;\">\n",
       "      <th></th>\n",
       "      <th>serial_no</th>\n",
       "      <th>date</th>\n",
       "      <th>user_id</th>\n",
       "      <th>product_id</th>\n",
       "      <th>quantity_purchased</th>\n",
       "      <th>price</th>\n",
       "      <th>user_type</th>\n",
       "    </tr>\n",
       "  </thead>\n",
       "  <tbody>\n",
       "    <tr>\n",
       "      <th>990</th>\n",
       "      <td>1990</td>\n",
       "      <td>2016-12-01</td>\n",
       "      <td>5776</td>\n",
       "      <td>334</td>\n",
       "      <td>28</td>\n",
       "      <td>NaN</td>\n",
       "      <td>c</td>\n",
       "    </tr>\n",
       "    <tr>\n",
       "      <th>991</th>\n",
       "      <td>1991</td>\n",
       "      <td>2016-01-17</td>\n",
       "      <td>5096</td>\n",
       "      <td>149</td>\n",
       "      <td>11</td>\n",
       "      <td>6697.05</td>\n",
       "      <td>a</td>\n",
       "    </tr>\n",
       "    <tr>\n",
       "      <th>992</th>\n",
       "      <td>1992</td>\n",
       "      <td>2016-01-23</td>\n",
       "      <td>5016</td>\n",
       "      <td>824</td>\n",
       "      <td>28</td>\n",
       "      <td>220.47</td>\n",
       "      <td>c</td>\n",
       "    </tr>\n",
       "    <tr>\n",
       "      <th>993</th>\n",
       "      <td>1993</td>\n",
       "      <td>2016-01-30</td>\n",
       "      <td>5998</td>\n",
       "      <td>447</td>\n",
       "      <td>4</td>\n",
       "      <td>2542.78</td>\n",
       "      <td>d</td>\n",
       "    </tr>\n",
       "    <tr>\n",
       "      <th>994</th>\n",
       "      <td>1994</td>\n",
       "      <td>2016-01-28</td>\n",
       "      <td>5629</td>\n",
       "      <td>898</td>\n",
       "      <td>35</td>\n",
       "      <td>4036.20</td>\n",
       "      <td>a</td>\n",
       "    </tr>\n",
       "  </tbody>\n",
       "</table>\n",
       "</div>"
      ],
      "text/plain": [
       "     serial_no        date  user_id  product_id  quantity_purchased    price  \\\n",
       "990       1990  2016-12-01     5776         334                  28      NaN   \n",
       "991       1991  2016-01-17     5096         149                  11  6697.05   \n",
       "992       1992  2016-01-23     5016         824                  28   220.47   \n",
       "993       1993  2016-01-30     5998         447                   4  2542.78   \n",
       "994       1994  2016-01-28     5629         898                  35  4036.20   \n",
       "\n",
       "    user_type  \n",
       "990         c  \n",
       "991         a  \n",
       "992         c  \n",
       "993         d  \n",
       "994         a  "
      ]
     },
     "metadata": {},
     "output_type": "display_data"
    }
   ],
   "source": [
    "display(df[-10:].head())"
   ]
  },
  {
   "cell_type": "markdown",
   "metadata": {},
   "source": [
    "# TypeCasting/Data Type Conversion"
   ]
  },
  {
   "cell_type": "code",
   "execution_count": 31,
   "metadata": {},
   "outputs": [
    {
     "name": "stdout",
     "output_type": "stream",
     "text": [
      "serial_no                      int32\n",
      "date                  datetime64[ns]\n",
      "user_id                        int64\n",
      "product_id                     int64\n",
      "quantity_purchased             int32\n",
      "price                        float64\n",
      "user_type                     object\n",
      "dtype: object\n"
     ]
    }
   ],
   "source": [
    "df['date'] = pd.to_datetime(df.date)\n",
    "# compare dtypes of the original df with this one\n",
    "print(df.dtypes)"
   ]
  },
  {
   "cell_type": "markdown",
   "metadata": {},
   "source": [
    "# Apply/Map Usage"
   ]
  },
  {
   "cell_type": "raw",
   "metadata": {},
   "source": [
    "Map : Create a derived attribute using map"
   ]
  },
  {
   "cell_type": "code",
   "execution_count": 32,
   "metadata": {},
   "outputs": [
    {
     "data": {
      "text/html": [
       "<div>\n",
       "<style scoped>\n",
       "    .dataframe tbody tr th:only-of-type {\n",
       "        vertical-align: middle;\n",
       "    }\n",
       "\n",
       "    .dataframe tbody tr th {\n",
       "        vertical-align: top;\n",
       "    }\n",
       "\n",
       "    .dataframe thead th {\n",
       "        text-align: right;\n",
       "    }\n",
       "</style>\n",
       "<table border=\"1\" class=\"dataframe\">\n",
       "  <thead>\n",
       "    <tr style=\"text-align: right;\">\n",
       "      <th></th>\n",
       "      <th>serial_no</th>\n",
       "      <th>date</th>\n",
       "      <th>user_id</th>\n",
       "      <th>product_id</th>\n",
       "      <th>quantity_purchased</th>\n",
       "      <th>price</th>\n",
       "      <th>user_type</th>\n",
       "      <th>user_class</th>\n",
       "    </tr>\n",
       "  </thead>\n",
       "  <tbody>\n",
       "    <tr>\n",
       "      <th>995</th>\n",
       "      <td>1995</td>\n",
       "      <td>2016-06-01</td>\n",
       "      <td>5599</td>\n",
       "      <td>861</td>\n",
       "      <td>6</td>\n",
       "      <td>341.64</td>\n",
       "      <td>b</td>\n",
       "      <td>new</td>\n",
       "    </tr>\n",
       "    <tr>\n",
       "      <th>996</th>\n",
       "      <td>1996</td>\n",
       "      <td>2016-01-25</td>\n",
       "      <td>5950</td>\n",
       "      <td>689</td>\n",
       "      <td>36</td>\n",
       "      <td>NaN</td>\n",
       "      <td>b</td>\n",
       "      <td>new</td>\n",
       "    </tr>\n",
       "    <tr>\n",
       "      <th>997</th>\n",
       "      <td>1997</td>\n",
       "      <td>2016-10-01</td>\n",
       "      <td>5351</td>\n",
       "      <td>976</td>\n",
       "      <td>24</td>\n",
       "      <td>226.35</td>\n",
       "      <td>b</td>\n",
       "      <td>new</td>\n",
       "    </tr>\n",
       "    <tr>\n",
       "      <th>998</th>\n",
       "      <td>1998</td>\n",
       "      <td>2016-01-18</td>\n",
       "      <td>5899</td>\n",
       "      <td>1098</td>\n",
       "      <td>39</td>\n",
       "      <td>67.59</td>\n",
       "      <td>c</td>\n",
       "      <td>existing</td>\n",
       "    </tr>\n",
       "    <tr>\n",
       "      <th>999</th>\n",
       "      <td>1999</td>\n",
       "      <td>2016-01-26</td>\n",
       "      <td>5609</td>\n",
       "      <td>424</td>\n",
       "      <td>28</td>\n",
       "      <td>25.96</td>\n",
       "      <td>c</td>\n",
       "      <td>existing</td>\n",
       "    </tr>\n",
       "  </tbody>\n",
       "</table>\n",
       "</div>"
      ],
      "text/plain": [
       "     serial_no       date  user_id  product_id  quantity_purchased   price  \\\n",
       "995       1995 2016-06-01     5599         861                   6  341.64   \n",
       "996       1996 2016-01-25     5950         689                  36     NaN   \n",
       "997       1997 2016-10-01     5351         976                  24  226.35   \n",
       "998       1998 2016-01-18     5899        1098                  39   67.59   \n",
       "999       1999 2016-01-26     5609         424                  28   25.96   \n",
       "\n",
       "    user_type user_class  \n",
       "995         b        new  \n",
       "996         b        new  \n",
       "997         b        new  \n",
       "998         c   existing  \n",
       "999         c   existing  "
      ]
     },
     "metadata": {},
     "output_type": "display_data"
    }
   ],
   "source": [
    "\n",
    "df['user_class'] = df['user_type'].map(expand_user_type)\n",
    "display(df.tail())"
   ]
  },
  {
   "cell_type": "markdown",
   "metadata": {},
   "source": [
    "Apply: Using apply to get attribute ranges"
   ]
  },
  {
   "cell_type": "code",
   "execution_count": 33,
   "metadata": {},
   "outputs": [
    {
     "data": {
      "text/plain": [
       "serial_no             2000.00\n",
       "user_id               6099.00\n",
       "product_id            1098.00\n",
       "quantity_purchased      40.00\n",
       "price                 8027.33\n",
       "dtype: float64"
      ]
     },
     "metadata": {},
     "output_type": "display_data"
    }
   ],
   "source": [
    "display(df.select_dtypes(include=[np.number]).apply(lambda x: \n",
    "                                                        x.max()- x.min()))"
   ]
  },
  {
   "cell_type": "markdown",
   "metadata": {},
   "source": [
    "Applymap: Extract week from date"
   ]
  },
  {
   "cell_type": "code",
   "execution_count": 34,
   "metadata": {},
   "outputs": [],
   "source": [
    "df['purchase_week'] = df[['date']].applymap(lambda dt:dt.week \n",
    "                                                if not pd.isnull(dt.week) \n",
    "                                                else 0)"
   ]
  },
  {
   "cell_type": "code",
   "execution_count": 35,
   "metadata": {},
   "outputs": [
    {
     "data": {
      "text/html": [
       "<div>\n",
       "<style scoped>\n",
       "    .dataframe tbody tr th:only-of-type {\n",
       "        vertical-align: middle;\n",
       "    }\n",
       "\n",
       "    .dataframe tbody tr th {\n",
       "        vertical-align: top;\n",
       "    }\n",
       "\n",
       "    .dataframe thead th {\n",
       "        text-align: right;\n",
       "    }\n",
       "</style>\n",
       "<table border=\"1\" class=\"dataframe\">\n",
       "  <thead>\n",
       "    <tr style=\"text-align: right;\">\n",
       "      <th></th>\n",
       "      <th>serial_no</th>\n",
       "      <th>date</th>\n",
       "      <th>user_id</th>\n",
       "      <th>product_id</th>\n",
       "      <th>quantity_purchased</th>\n",
       "      <th>price</th>\n",
       "      <th>user_type</th>\n",
       "      <th>user_class</th>\n",
       "      <th>purchase_week</th>\n",
       "    </tr>\n",
       "  </thead>\n",
       "  <tbody>\n",
       "    <tr>\n",
       "      <th>0</th>\n",
       "      <td>1000</td>\n",
       "      <td>NaT</td>\n",
       "      <td>-101</td>\n",
       "      <td>0</td>\n",
       "      <td>18</td>\n",
       "      <td>1623.49</td>\n",
       "      <td>n</td>\n",
       "      <td>error</td>\n",
       "      <td>0</td>\n",
       "    </tr>\n",
       "    <tr>\n",
       "      <th>1</th>\n",
       "      <td>1001</td>\n",
       "      <td>NaT</td>\n",
       "      <td>5712</td>\n",
       "      <td>694</td>\n",
       "      <td>33</td>\n",
       "      <td>1691.05</td>\n",
       "      <td>n</td>\n",
       "      <td>error</td>\n",
       "      <td>0</td>\n",
       "    </tr>\n",
       "    <tr>\n",
       "      <th>2</th>\n",
       "      <td>1002</td>\n",
       "      <td>NaT</td>\n",
       "      <td>5351</td>\n",
       "      <td>1095</td>\n",
       "      <td>32</td>\n",
       "      <td>488.13</td>\n",
       "      <td>n</td>\n",
       "      <td>error</td>\n",
       "      <td>0</td>\n",
       "    </tr>\n",
       "    <tr>\n",
       "      <th>3</th>\n",
       "      <td>1003</td>\n",
       "      <td>2016-09-01</td>\n",
       "      <td>5007</td>\n",
       "      <td>269</td>\n",
       "      <td>5</td>\n",
       "      <td>1398.15</td>\n",
       "      <td>n</td>\n",
       "      <td>error</td>\n",
       "      <td>35</td>\n",
       "    </tr>\n",
       "    <tr>\n",
       "      <th>4</th>\n",
       "      <td>1004</td>\n",
       "      <td>NaT</td>\n",
       "      <td>5308</td>\n",
       "      <td>162</td>\n",
       "      <td>18</td>\n",
       "      <td>3501.47</td>\n",
       "      <td>n</td>\n",
       "      <td>error</td>\n",
       "      <td>0</td>\n",
       "    </tr>\n",
       "  </tbody>\n",
       "</table>\n",
       "</div>"
      ],
      "text/plain": [
       "   serial_no       date  user_id  product_id  quantity_purchased    price  \\\n",
       "0       1000        NaT     -101           0                  18  1623.49   \n",
       "1       1001        NaT     5712         694                  33  1691.05   \n",
       "2       1002        NaT     5351        1095                  32   488.13   \n",
       "3       1003 2016-09-01     5007         269                   5  1398.15   \n",
       "4       1004        NaT     5308         162                  18  3501.47   \n",
       "\n",
       "  user_type user_class  purchase_week  \n",
       "0         n      error              0  \n",
       "1         n      error              0  \n",
       "2         n      error              0  \n",
       "3         n      error             35  \n",
       "4         n      error              0  "
      ]
     },
     "metadata": {},
     "output_type": "display_data"
    }
   ],
   "source": [
    "display(df.head())"
   ]
  },
  {
   "cell_type": "markdown",
   "metadata": {},
   "source": [
    "# Missing Values"
   ]
  },
  {
   "cell_type": "markdown",
   "metadata": {},
   "source": [
    "Drop Rows with missing dates"
   ]
  },
  {
   "cell_type": "code",
   "execution_count": 36,
   "metadata": {},
   "outputs": [
    {
     "data": {
      "text/html": [
       "<div>\n",
       "<style scoped>\n",
       "    .dataframe tbody tr th:only-of-type {\n",
       "        vertical-align: middle;\n",
       "    }\n",
       "\n",
       "    .dataframe tbody tr th {\n",
       "        vertical-align: top;\n",
       "    }\n",
       "\n",
       "    .dataframe thead th {\n",
       "        text-align: right;\n",
       "    }\n",
       "</style>\n",
       "<table border=\"1\" class=\"dataframe\">\n",
       "  <thead>\n",
       "    <tr style=\"text-align: right;\">\n",
       "      <th></th>\n",
       "      <th>serial_no</th>\n",
       "      <th>date</th>\n",
       "      <th>user_id</th>\n",
       "      <th>product_id</th>\n",
       "      <th>quantity_purchased</th>\n",
       "      <th>price</th>\n",
       "      <th>user_type</th>\n",
       "      <th>user_class</th>\n",
       "      <th>purchase_week</th>\n",
       "    </tr>\n",
       "  </thead>\n",
       "  <tbody>\n",
       "    <tr>\n",
       "      <th>3</th>\n",
       "      <td>1003</td>\n",
       "      <td>2016-09-01</td>\n",
       "      <td>5007</td>\n",
       "      <td>269</td>\n",
       "      <td>5</td>\n",
       "      <td>1398.15</td>\n",
       "      <td>n</td>\n",
       "      <td>error</td>\n",
       "      <td>35</td>\n",
       "    </tr>\n",
       "    <tr>\n",
       "      <th>5</th>\n",
       "      <td>1005</td>\n",
       "      <td>2016-01-20</td>\n",
       "      <td>5420</td>\n",
       "      <td>264</td>\n",
       "      <td>40</td>\n",
       "      <td>4426.06</td>\n",
       "      <td>n</td>\n",
       "      <td>error</td>\n",
       "      <td>3</td>\n",
       "    </tr>\n",
       "    <tr>\n",
       "      <th>7</th>\n",
       "      <td>1007</td>\n",
       "      <td>2016-07-02</td>\n",
       "      <td>5073</td>\n",
       "      <td>566</td>\n",
       "      <td>9</td>\n",
       "      <td>1491.00</td>\n",
       "      <td>n</td>\n",
       "      <td>error</td>\n",
       "      <td>26</td>\n",
       "    </tr>\n",
       "    <tr>\n",
       "      <th>10</th>\n",
       "      <td>1010</td>\n",
       "      <td>2016-05-02</td>\n",
       "      <td>5153</td>\n",
       "      <td>289</td>\n",
       "      <td>38</td>\n",
       "      <td>3161.56</td>\n",
       "      <td>n</td>\n",
       "      <td>error</td>\n",
       "      <td>18</td>\n",
       "    </tr>\n",
       "    <tr>\n",
       "      <th>12</th>\n",
       "      <td>1012</td>\n",
       "      <td>2016-01-28</td>\n",
       "      <td>5262</td>\n",
       "      <td>228</td>\n",
       "      <td>17</td>\n",
       "      <td>1508.11</td>\n",
       "      <td>n</td>\n",
       "      <td>error</td>\n",
       "      <td>4</td>\n",
       "    </tr>\n",
       "  </tbody>\n",
       "</table>\n",
       "</div>"
      ],
      "text/plain": [
       "    serial_no       date  user_id  product_id  quantity_purchased    price  \\\n",
       "3        1003 2016-09-01     5007         269                   5  1398.15   \n",
       "5        1005 2016-01-20     5420         264                  40  4426.06   \n",
       "7        1007 2016-07-02     5073         566                   9  1491.00   \n",
       "10       1010 2016-05-02     5153         289                  38  3161.56   \n",
       "12       1012 2016-01-28     5262         228                  17  1508.11   \n",
       "\n",
       "   user_type user_class  purchase_week  \n",
       "3          n      error             35  \n",
       "5          n      error              3  \n",
       "7          n      error             26  \n",
       "10         n      error             18  \n",
       "12         n      error              4  "
      ]
     },
     "metadata": {},
     "output_type": "display_data"
    }
   ],
   "source": [
    "df_dropped = df.dropna(subset=['date'])\n",
    "display(df_dropped.head())"
   ]
  },
  {
   "cell_type": "markdown",
   "metadata": {},
   "source": [
    "###### Fill Missing Price values with mean price"
   ]
  },
  {
   "cell_type": "code",
   "execution_count": 37,
   "metadata": {},
   "outputs": [],
   "source": [
    "df_dropped['price'].fillna(value=np.round(df.price.mean(),decimals=2),\n",
    "                                inplace=True)"
   ]
  },
  {
   "cell_type": "markdown",
   "metadata": {},
   "source": [
    "###### Fill Missing user_type values with value from previous row (forward fill)"
   ]
  },
  {
   "cell_type": "code",
   "execution_count": 38,
   "metadata": {},
   "outputs": [],
   "source": [
    "df_dropped['user_type'].fillna(method='ffill',inplace=True)"
   ]
  },
  {
   "cell_type": "markdown",
   "metadata": {},
   "source": [
    "###### Fill Missing user_type values with value from next row (backward fill)"
   ]
  },
  {
   "cell_type": "code",
   "execution_count": 39,
   "metadata": {},
   "outputs": [],
   "source": [
    "df_dropped['user_type'].fillna(method='bfill',inplace=True)"
   ]
  },
  {
   "cell_type": "markdown",
   "metadata": {},
   "source": [
    "# Duplicates"
   ]
  },
  {
   "cell_type": "code",
   "execution_count": 40,
   "metadata": {},
   "outputs": [
    {
     "data": {
      "text/html": [
       "<div>\n",
       "<style scoped>\n",
       "    .dataframe tbody tr th:only-of-type {\n",
       "        vertical-align: middle;\n",
       "    }\n",
       "\n",
       "    .dataframe tbody tr th {\n",
       "        vertical-align: top;\n",
       "    }\n",
       "\n",
       "    .dataframe thead th {\n",
       "        text-align: right;\n",
       "    }\n",
       "</style>\n",
       "<table border=\"1\" class=\"dataframe\">\n",
       "  <thead>\n",
       "    <tr style=\"text-align: right;\">\n",
       "      <th></th>\n",
       "      <th>serial_no</th>\n",
       "      <th>date</th>\n",
       "      <th>user_id</th>\n",
       "      <th>product_id</th>\n",
       "      <th>quantity_purchased</th>\n",
       "      <th>price</th>\n",
       "      <th>user_type</th>\n",
       "      <th>user_class</th>\n",
       "      <th>purchase_week</th>\n",
       "    </tr>\n",
       "  </thead>\n",
       "  <tbody>\n",
       "    <tr>\n",
       "      <th>192</th>\n",
       "      <td>-1</td>\n",
       "      <td>2016-09-02</td>\n",
       "      <td>5016</td>\n",
       "      <td>824</td>\n",
       "      <td>35</td>\n",
       "      <td>142.85</td>\n",
       "      <td>b</td>\n",
       "      <td>new</td>\n",
       "      <td>35</td>\n",
       "    </tr>\n",
       "    <tr>\n",
       "      <th>212</th>\n",
       "      <td>-1</td>\n",
       "      <td>2016-06-01</td>\n",
       "      <td>5262</td>\n",
       "      <td>228</td>\n",
       "      <td>9</td>\n",
       "      <td>1887.24</td>\n",
       "      <td>d</td>\n",
       "      <td>loyal_existing</td>\n",
       "      <td>22</td>\n",
       "    </tr>\n",
       "    <tr>\n",
       "      <th>244</th>\n",
       "      <td>-1</td>\n",
       "      <td>2016-03-02</td>\n",
       "      <td>5573</td>\n",
       "      <td>1088</td>\n",
       "      <td>30</td>\n",
       "      <td>2461.79</td>\n",
       "      <td>b</td>\n",
       "      <td>new</td>\n",
       "      <td>9</td>\n",
       "    </tr>\n",
       "    <tr>\n",
       "      <th>290</th>\n",
       "      <td>-1</td>\n",
       "      <td>2016-01-29</td>\n",
       "      <td>5776</td>\n",
       "      <td>334</td>\n",
       "      <td>31</td>\n",
       "      <td>1123.39</td>\n",
       "      <td>a</td>\n",
       "      <td>new</td>\n",
       "      <td>4</td>\n",
       "    </tr>\n",
       "    <tr>\n",
       "      <th>299</th>\n",
       "      <td>-1</td>\n",
       "      <td>2016-01-17</td>\n",
       "      <td>5609</td>\n",
       "      <td>424</td>\n",
       "      <td>35</td>\n",
       "      <td>3261.43</td>\n",
       "      <td>a</td>\n",
       "      <td>new</td>\n",
       "      <td>2</td>\n",
       "    </tr>\n",
       "  </tbody>\n",
       "</table>\n",
       "</div>"
      ],
      "text/plain": [
       "     serial_no       date  user_id  product_id  quantity_purchased    price  \\\n",
       "192         -1 2016-09-02     5016         824                  35   142.85   \n",
       "212         -1 2016-06-01     5262         228                   9  1887.24   \n",
       "244         -1 2016-03-02     5573        1088                  30  2461.79   \n",
       "290         -1 2016-01-29     5776         334                  31  1123.39   \n",
       "299         -1 2016-01-17     5609         424                  35  3261.43   \n",
       "\n",
       "    user_type      user_class  purchase_week  \n",
       "192         b             new             35  \n",
       "212         d  loyal_existing             22  \n",
       "244         b             new              9  \n",
       "290         a             new              4  \n",
       "299         a             new              2  "
      ]
     },
     "metadata": {},
     "output_type": "display_data"
    },
    {
     "name": "stdout",
     "output_type": "stream",
     "text": [
      "Shape of df=(970, 9)\n"
     ]
    }
   ],
   "source": [
    "\n",
    "# sample duplicates\n",
    "display(df_dropped[df_dropped.duplicated(subset=['serial_no'])].head())\n",
    "print(\"Shape of df={}\".format(df_dropped.shape))"
   ]
  },
  {
   "cell_type": "code",
   "execution_count": 41,
   "metadata": {},
   "outputs": [],
   "source": [
    "df_dropped.drop_duplicates(subset=['serial_no'],inplace=True)"
   ]
  },
  {
   "cell_type": "code",
   "execution_count": 42,
   "metadata": {},
   "outputs": [
    {
     "data": {
      "text/html": [
       "<div>\n",
       "<style scoped>\n",
       "    .dataframe tbody tr th:only-of-type {\n",
       "        vertical-align: middle;\n",
       "    }\n",
       "\n",
       "    .dataframe tbody tr th {\n",
       "        vertical-align: top;\n",
       "    }\n",
       "\n",
       "    .dataframe thead th {\n",
       "        text-align: right;\n",
       "    }\n",
       "</style>\n",
       "<table border=\"1\" class=\"dataframe\">\n",
       "  <thead>\n",
       "    <tr style=\"text-align: right;\">\n",
       "      <th></th>\n",
       "      <th>serial_no</th>\n",
       "      <th>date</th>\n",
       "      <th>user_id</th>\n",
       "      <th>product_id</th>\n",
       "      <th>quantity_purchased</th>\n",
       "      <th>price</th>\n",
       "      <th>user_type</th>\n",
       "      <th>user_class</th>\n",
       "      <th>purchase_week</th>\n",
       "    </tr>\n",
       "  </thead>\n",
       "  <tbody>\n",
       "    <tr>\n",
       "      <th>3</th>\n",
       "      <td>1003</td>\n",
       "      <td>2016-09-01</td>\n",
       "      <td>5007</td>\n",
       "      <td>269</td>\n",
       "      <td>5</td>\n",
       "      <td>1398.15</td>\n",
       "      <td>n</td>\n",
       "      <td>error</td>\n",
       "      <td>35</td>\n",
       "    </tr>\n",
       "    <tr>\n",
       "      <th>5</th>\n",
       "      <td>1005</td>\n",
       "      <td>2016-01-20</td>\n",
       "      <td>5420</td>\n",
       "      <td>264</td>\n",
       "      <td>40</td>\n",
       "      <td>4426.06</td>\n",
       "      <td>n</td>\n",
       "      <td>error</td>\n",
       "      <td>3</td>\n",
       "    </tr>\n",
       "    <tr>\n",
       "      <th>7</th>\n",
       "      <td>1007</td>\n",
       "      <td>2016-07-02</td>\n",
       "      <td>5073</td>\n",
       "      <td>566</td>\n",
       "      <td>9</td>\n",
       "      <td>1491.00</td>\n",
       "      <td>n</td>\n",
       "      <td>error</td>\n",
       "      <td>26</td>\n",
       "    </tr>\n",
       "    <tr>\n",
       "      <th>10</th>\n",
       "      <td>1010</td>\n",
       "      <td>2016-05-02</td>\n",
       "      <td>5153</td>\n",
       "      <td>289</td>\n",
       "      <td>38</td>\n",
       "      <td>3161.56</td>\n",
       "      <td>n</td>\n",
       "      <td>error</td>\n",
       "      <td>18</td>\n",
       "    </tr>\n",
       "    <tr>\n",
       "      <th>12</th>\n",
       "      <td>1012</td>\n",
       "      <td>2016-01-28</td>\n",
       "      <td>5262</td>\n",
       "      <td>228</td>\n",
       "      <td>17</td>\n",
       "      <td>1508.11</td>\n",
       "      <td>n</td>\n",
       "      <td>error</td>\n",
       "      <td>4</td>\n",
       "    </tr>\n",
       "  </tbody>\n",
       "</table>\n",
       "</div>"
      ],
      "text/plain": [
       "    serial_no       date  user_id  product_id  quantity_purchased    price  \\\n",
       "3        1003 2016-09-01     5007         269                   5  1398.15   \n",
       "5        1005 2016-01-20     5420         264                  40  4426.06   \n",
       "7        1007 2016-07-02     5073         566                   9  1491.00   \n",
       "10       1010 2016-05-02     5153         289                  38  3161.56   \n",
       "12       1012 2016-01-28     5262         228                  17  1508.11   \n",
       "\n",
       "   user_type user_class  purchase_week  \n",
       "3          n      error             35  \n",
       "5          n      error              3  \n",
       "7          n      error             26  \n",
       "10         n      error             18  \n",
       "12         n      error              4  "
      ]
     },
     "metadata": {},
     "output_type": "display_data"
    },
    {
     "name": "stdout",
     "output_type": "stream",
     "text": [
      "Shape of df=(941, 9)\n"
     ]
    }
   ],
   "source": [
    "# updated dataframe\n",
    "display(df_dropped.head())\n",
    "print(\"Shape of df={}\".format(df_dropped.shape))"
   ]
  },
  {
   "cell_type": "markdown",
   "metadata": {},
   "source": [
    "Remove rows which have less than 3 attributes with non-missing data"
   ]
  },
  {
   "cell_type": "code",
   "execution_count": 43,
   "metadata": {},
   "outputs": [
    {
     "data": {
      "text/html": [
       "<div>\n",
       "<style scoped>\n",
       "    .dataframe tbody tr th:only-of-type {\n",
       "        vertical-align: middle;\n",
       "    }\n",
       "\n",
       "    .dataframe tbody tr th {\n",
       "        vertical-align: top;\n",
       "    }\n",
       "\n",
       "    .dataframe thead th {\n",
       "        text-align: right;\n",
       "    }\n",
       "</style>\n",
       "<table border=\"1\" class=\"dataframe\">\n",
       "  <thead>\n",
       "    <tr style=\"text-align: right;\">\n",
       "      <th></th>\n",
       "      <th>serial_no</th>\n",
       "      <th>date</th>\n",
       "      <th>user_id</th>\n",
       "      <th>product_id</th>\n",
       "      <th>quantity_purchased</th>\n",
       "      <th>price</th>\n",
       "      <th>user_type</th>\n",
       "      <th>user_class</th>\n",
       "      <th>purchase_week</th>\n",
       "    </tr>\n",
       "  </thead>\n",
       "  <tbody>\n",
       "    <tr>\n",
       "      <th>0</th>\n",
       "      <td>1000</td>\n",
       "      <td>NaT</td>\n",
       "      <td>-101</td>\n",
       "      <td>0</td>\n",
       "      <td>18</td>\n",
       "      <td>1623.49</td>\n",
       "      <td>n</td>\n",
       "      <td>error</td>\n",
       "      <td>0</td>\n",
       "    </tr>\n",
       "    <tr>\n",
       "      <th>1</th>\n",
       "      <td>1001</td>\n",
       "      <td>NaT</td>\n",
       "      <td>5712</td>\n",
       "      <td>694</td>\n",
       "      <td>33</td>\n",
       "      <td>1691.05</td>\n",
       "      <td>n</td>\n",
       "      <td>error</td>\n",
       "      <td>0</td>\n",
       "    </tr>\n",
       "    <tr>\n",
       "      <th>2</th>\n",
       "      <td>1002</td>\n",
       "      <td>NaT</td>\n",
       "      <td>5351</td>\n",
       "      <td>1095</td>\n",
       "      <td>32</td>\n",
       "      <td>488.13</td>\n",
       "      <td>n</td>\n",
       "      <td>error</td>\n",
       "      <td>0</td>\n",
       "    </tr>\n",
       "    <tr>\n",
       "      <th>3</th>\n",
       "      <td>1003</td>\n",
       "      <td>2016-09-01</td>\n",
       "      <td>5007</td>\n",
       "      <td>269</td>\n",
       "      <td>5</td>\n",
       "      <td>1398.15</td>\n",
       "      <td>n</td>\n",
       "      <td>error</td>\n",
       "      <td>35</td>\n",
       "    </tr>\n",
       "    <tr>\n",
       "      <th>4</th>\n",
       "      <td>1004</td>\n",
       "      <td>NaT</td>\n",
       "      <td>5308</td>\n",
       "      <td>162</td>\n",
       "      <td>18</td>\n",
       "      <td>3501.47</td>\n",
       "      <td>n</td>\n",
       "      <td>error</td>\n",
       "      <td>0</td>\n",
       "    </tr>\n",
       "  </tbody>\n",
       "</table>\n",
       "</div>"
      ],
      "text/plain": [
       "   serial_no       date  user_id  product_id  quantity_purchased    price  \\\n",
       "0       1000        NaT     -101           0                  18  1623.49   \n",
       "1       1001        NaT     5712         694                  33  1691.05   \n",
       "2       1002        NaT     5351        1095                  32   488.13   \n",
       "3       1003 2016-09-01     5007         269                   5  1398.15   \n",
       "4       1004        NaT     5308         162                  18  3501.47   \n",
       "\n",
       "  user_type user_class  purchase_week  \n",
       "0         n      error              0  \n",
       "1         n      error              0  \n",
       "2         n      error              0  \n",
       "3         n      error             35  \n",
       "4         n      error              0  "
      ]
     },
     "metadata": {},
     "output_type": "display_data"
    },
    {
     "name": "stdout",
     "output_type": "stream",
     "text": [
      "Shape of df=(1000, 9)\n"
     ]
    }
   ],
   "source": [
    "display(df.dropna(thresh=3).head())\n",
    "print(\"Shape of df={}\".format(df.dropna(thresh=3).shape))"
   ]
  },
  {
   "cell_type": "markdown",
   "metadata": {},
   "source": [
    "# Encode Categoricals"
   ]
  },
  {
   "cell_type": "markdown",
   "metadata": {},
   "source": [
    "One Hot Encoding Using get_dummies()"
   ]
  },
  {
   "cell_type": "code",
   "execution_count": 44,
   "metadata": {},
   "outputs": [
    {
     "data": {
      "text/html": [
       "<div>\n",
       "<style scoped>\n",
       "    .dataframe tbody tr th:only-of-type {\n",
       "        vertical-align: middle;\n",
       "    }\n",
       "\n",
       "    .dataframe tbody tr th {\n",
       "        vertical-align: top;\n",
       "    }\n",
       "\n",
       "    .dataframe thead th {\n",
       "        text-align: right;\n",
       "    }\n",
       "</style>\n",
       "<table border=\"1\" class=\"dataframe\">\n",
       "  <thead>\n",
       "    <tr style=\"text-align: right;\">\n",
       "      <th></th>\n",
       "      <th>serial_no</th>\n",
       "      <th>date</th>\n",
       "      <th>user_id</th>\n",
       "      <th>product_id</th>\n",
       "      <th>quantity_purchased</th>\n",
       "      <th>price</th>\n",
       "      <th>user_class</th>\n",
       "      <th>purchase_week</th>\n",
       "      <th>user_type_a</th>\n",
       "      <th>user_type_b</th>\n",
       "      <th>user_type_c</th>\n",
       "      <th>user_type_d</th>\n",
       "      <th>user_type_n</th>\n",
       "    </tr>\n",
       "  </thead>\n",
       "  <tbody>\n",
       "    <tr>\n",
       "      <th>0</th>\n",
       "      <td>1000</td>\n",
       "      <td>NaT</td>\n",
       "      <td>-101</td>\n",
       "      <td>0</td>\n",
       "      <td>18</td>\n",
       "      <td>1623.49</td>\n",
       "      <td>error</td>\n",
       "      <td>0</td>\n",
       "      <td>0</td>\n",
       "      <td>0</td>\n",
       "      <td>0</td>\n",
       "      <td>0</td>\n",
       "      <td>1</td>\n",
       "    </tr>\n",
       "    <tr>\n",
       "      <th>1</th>\n",
       "      <td>1001</td>\n",
       "      <td>NaT</td>\n",
       "      <td>5712</td>\n",
       "      <td>694</td>\n",
       "      <td>33</td>\n",
       "      <td>1691.05</td>\n",
       "      <td>error</td>\n",
       "      <td>0</td>\n",
       "      <td>0</td>\n",
       "      <td>0</td>\n",
       "      <td>0</td>\n",
       "      <td>0</td>\n",
       "      <td>1</td>\n",
       "    </tr>\n",
       "    <tr>\n",
       "      <th>2</th>\n",
       "      <td>1002</td>\n",
       "      <td>NaT</td>\n",
       "      <td>5351</td>\n",
       "      <td>1095</td>\n",
       "      <td>32</td>\n",
       "      <td>488.13</td>\n",
       "      <td>error</td>\n",
       "      <td>0</td>\n",
       "      <td>0</td>\n",
       "      <td>0</td>\n",
       "      <td>0</td>\n",
       "      <td>0</td>\n",
       "      <td>1</td>\n",
       "    </tr>\n",
       "    <tr>\n",
       "      <th>3</th>\n",
       "      <td>1003</td>\n",
       "      <td>2016-09-01</td>\n",
       "      <td>5007</td>\n",
       "      <td>269</td>\n",
       "      <td>5</td>\n",
       "      <td>1398.15</td>\n",
       "      <td>error</td>\n",
       "      <td>35</td>\n",
       "      <td>0</td>\n",
       "      <td>0</td>\n",
       "      <td>0</td>\n",
       "      <td>0</td>\n",
       "      <td>1</td>\n",
       "    </tr>\n",
       "    <tr>\n",
       "      <th>4</th>\n",
       "      <td>1004</td>\n",
       "      <td>NaT</td>\n",
       "      <td>5308</td>\n",
       "      <td>162</td>\n",
       "      <td>18</td>\n",
       "      <td>3501.47</td>\n",
       "      <td>error</td>\n",
       "      <td>0</td>\n",
       "      <td>0</td>\n",
       "      <td>0</td>\n",
       "      <td>0</td>\n",
       "      <td>0</td>\n",
       "      <td>1</td>\n",
       "    </tr>\n",
       "  </tbody>\n",
       "</table>\n",
       "</div>"
      ],
      "text/plain": [
       "   serial_no       date  user_id  product_id  quantity_purchased    price  \\\n",
       "0       1000        NaT     -101           0                  18  1623.49   \n",
       "1       1001        NaT     5712         694                  33  1691.05   \n",
       "2       1002        NaT     5351        1095                  32   488.13   \n",
       "3       1003 2016-09-01     5007         269                   5  1398.15   \n",
       "4       1004        NaT     5308         162                  18  3501.47   \n",
       "\n",
       "  user_class  purchase_week  user_type_a  user_type_b  user_type_c  \\\n",
       "0      error              0            0            0            0   \n",
       "1      error              0            0            0            0   \n",
       "2      error              0            0            0            0   \n",
       "3      error             35            0            0            0   \n",
       "4      error              0            0            0            0   \n",
       "\n",
       "   user_type_d  user_type_n  \n",
       "0            0            1  \n",
       "1            0            1  \n",
       "2            0            1  \n",
       "3            0            1  \n",
       "4            0            1  "
      ]
     },
     "metadata": {},
     "output_type": "display_data"
    }
   ],
   "source": [
    "\n",
    "display(pd.get_dummies(df,columns=['user_type']).head())"
   ]
  },
  {
   "cell_type": "markdown",
   "metadata": {},
   "source": [
    "Label Mapping"
   ]
  },
  {
   "cell_type": "code",
   "execution_count": 45,
   "metadata": {},
   "outputs": [
    {
     "data": {
      "text/html": [
       "<div>\n",
       "<style scoped>\n",
       "    .dataframe tbody tr th:only-of-type {\n",
       "        vertical-align: middle;\n",
       "    }\n",
       "\n",
       "    .dataframe tbody tr th {\n",
       "        vertical-align: top;\n",
       "    }\n",
       "\n",
       "    .dataframe thead th {\n",
       "        text-align: right;\n",
       "    }\n",
       "</style>\n",
       "<table border=\"1\" class=\"dataframe\">\n",
       "  <thead>\n",
       "    <tr style=\"text-align: right;\">\n",
       "      <th></th>\n",
       "      <th>serial_no</th>\n",
       "      <th>date</th>\n",
       "      <th>user_id</th>\n",
       "      <th>product_id</th>\n",
       "      <th>quantity_purchased</th>\n",
       "      <th>price</th>\n",
       "      <th>user_type</th>\n",
       "      <th>user_class</th>\n",
       "      <th>purchase_week</th>\n",
       "      <th>encoded_user_type</th>\n",
       "    </tr>\n",
       "  </thead>\n",
       "  <tbody>\n",
       "    <tr>\n",
       "      <th>995</th>\n",
       "      <td>1995</td>\n",
       "      <td>2016-06-01</td>\n",
       "      <td>5599</td>\n",
       "      <td>861</td>\n",
       "      <td>6</td>\n",
       "      <td>341.64</td>\n",
       "      <td>b</td>\n",
       "      <td>new</td>\n",
       "      <td>22</td>\n",
       "      <td>1.0</td>\n",
       "    </tr>\n",
       "    <tr>\n",
       "      <th>996</th>\n",
       "      <td>1996</td>\n",
       "      <td>2016-01-25</td>\n",
       "      <td>5950</td>\n",
       "      <td>689</td>\n",
       "      <td>36</td>\n",
       "      <td>NaN</td>\n",
       "      <td>b</td>\n",
       "      <td>new</td>\n",
       "      <td>4</td>\n",
       "      <td>1.0</td>\n",
       "    </tr>\n",
       "    <tr>\n",
       "      <th>997</th>\n",
       "      <td>1997</td>\n",
       "      <td>2016-10-01</td>\n",
       "      <td>5351</td>\n",
       "      <td>976</td>\n",
       "      <td>24</td>\n",
       "      <td>226.35</td>\n",
       "      <td>b</td>\n",
       "      <td>new</td>\n",
       "      <td>39</td>\n",
       "      <td>1.0</td>\n",
       "    </tr>\n",
       "    <tr>\n",
       "      <th>998</th>\n",
       "      <td>1998</td>\n",
       "      <td>2016-01-18</td>\n",
       "      <td>5899</td>\n",
       "      <td>1098</td>\n",
       "      <td>39</td>\n",
       "      <td>67.59</td>\n",
       "      <td>c</td>\n",
       "      <td>existing</td>\n",
       "      <td>3</td>\n",
       "      <td>2.0</td>\n",
       "    </tr>\n",
       "    <tr>\n",
       "      <th>999</th>\n",
       "      <td>1999</td>\n",
       "      <td>2016-01-26</td>\n",
       "      <td>5609</td>\n",
       "      <td>424</td>\n",
       "      <td>28</td>\n",
       "      <td>25.96</td>\n",
       "      <td>c</td>\n",
       "      <td>existing</td>\n",
       "      <td>4</td>\n",
       "      <td>2.0</td>\n",
       "    </tr>\n",
       "  </tbody>\n",
       "</table>\n",
       "</div>"
      ],
      "text/plain": [
       "     serial_no       date  user_id  product_id  quantity_purchased   price  \\\n",
       "995       1995 2016-06-01     5599         861                   6  341.64   \n",
       "996       1996 2016-01-25     5950         689                  36     NaN   \n",
       "997       1997 2016-10-01     5351         976                  24  226.35   \n",
       "998       1998 2016-01-18     5899        1098                  39   67.59   \n",
       "999       1999 2016-01-26     5609         424                  28   25.96   \n",
       "\n",
       "    user_type user_class  purchase_week  encoded_user_type  \n",
       "995         b        new             22                1.0  \n",
       "996         b        new              4                1.0  \n",
       "997         b        new             39                1.0  \n",
       "998         c   existing              3                2.0  \n",
       "999         c   existing              4                2.0  "
      ]
     },
     "metadata": {},
     "output_type": "display_data"
    }
   ],
   "source": [
    "type_map={'a':0,'b':1,'c':2,'d':3,np.NAN:-1}\n",
    "df['encoded_user_type'] = df.user_type.map(type_map)\n",
    "display((df.tail()))"
   ]
  },
  {
   "cell_type": "markdown",
   "metadata": {},
   "source": [
    "# Random Sampling data from DataFrame"
   ]
  },
  {
   "cell_type": "code",
   "execution_count": 46,
   "metadata": {},
   "outputs": [
    {
     "data": {
      "text/html": [
       "<div>\n",
       "<style scoped>\n",
       "    .dataframe tbody tr th:only-of-type {\n",
       "        vertical-align: middle;\n",
       "    }\n",
       "\n",
       "    .dataframe tbody tr th {\n",
       "        vertical-align: top;\n",
       "    }\n",
       "\n",
       "    .dataframe thead th {\n",
       "        text-align: right;\n",
       "    }\n",
       "</style>\n",
       "<table border=\"1\" class=\"dataframe\">\n",
       "  <thead>\n",
       "    <tr style=\"text-align: right;\">\n",
       "      <th></th>\n",
       "      <th>serial_no</th>\n",
       "      <th>date</th>\n",
       "      <th>user_id</th>\n",
       "      <th>product_id</th>\n",
       "      <th>quantity_purchased</th>\n",
       "      <th>price</th>\n",
       "      <th>user_type</th>\n",
       "      <th>user_class</th>\n",
       "      <th>purchase_week</th>\n",
       "      <th>encoded_user_type</th>\n",
       "    </tr>\n",
       "  </thead>\n",
       "  <tbody>\n",
       "    <tr>\n",
       "      <th>102</th>\n",
       "      <td>1102</td>\n",
       "      <td>NaT</td>\n",
       "      <td>5351</td>\n",
       "      <td>1095</td>\n",
       "      <td>34</td>\n",
       "      <td>5091.96</td>\n",
       "      <td>a</td>\n",
       "      <td>new</td>\n",
       "      <td>0</td>\n",
       "      <td>0.0</td>\n",
       "    </tr>\n",
       "    <tr>\n",
       "      <th>435</th>\n",
       "      <td>1435</td>\n",
       "      <td>2016-01-15</td>\n",
       "      <td>5407</td>\n",
       "      <td>680</td>\n",
       "      <td>24</td>\n",
       "      <td>814.70</td>\n",
       "      <td>c</td>\n",
       "      <td>existing</td>\n",
       "      <td>2</td>\n",
       "      <td>2.0</td>\n",
       "    </tr>\n",
       "    <tr>\n",
       "      <th>860</th>\n",
       "      <td>1860</td>\n",
       "      <td>2016-01-21</td>\n",
       "      <td>5730</td>\n",
       "      <td>332</td>\n",
       "      <td>27</td>\n",
       "      <td>185.19</td>\n",
       "      <td>d</td>\n",
       "      <td>loyal_existing</td>\n",
       "      <td>3</td>\n",
       "      <td>3.0</td>\n",
       "    </tr>\n",
       "    <tr>\n",
       "      <th>270</th>\n",
       "      <td>1270</td>\n",
       "      <td>2016-01-15</td>\n",
       "      <td>5531</td>\n",
       "      <td>777</td>\n",
       "      <td>10</td>\n",
       "      <td>943.74</td>\n",
       "      <td>d</td>\n",
       "      <td>loyal_existing</td>\n",
       "      <td>2</td>\n",
       "      <td>3.0</td>\n",
       "    </tr>\n",
       "    <tr>\n",
       "      <th>106</th>\n",
       "      <td>1106</td>\n",
       "      <td>2016-01-23</td>\n",
       "      <td>5779</td>\n",
       "      <td>816</td>\n",
       "      <td>11</td>\n",
       "      <td>998.44</td>\n",
       "      <td>c</td>\n",
       "      <td>existing</td>\n",
       "      <td>3</td>\n",
       "      <td>2.0</td>\n",
       "    </tr>\n",
       "  </tbody>\n",
       "</table>\n",
       "</div>"
      ],
      "text/plain": [
       "     serial_no       date  user_id  product_id  quantity_purchased    price  \\\n",
       "102       1102        NaT     5351        1095                  34  5091.96   \n",
       "435       1435 2016-01-15     5407         680                  24   814.70   \n",
       "860       1860 2016-01-21     5730         332                  27   185.19   \n",
       "270       1270 2016-01-15     5531         777                  10   943.74   \n",
       "106       1106 2016-01-23     5779         816                  11   998.44   \n",
       "\n",
       "    user_type      user_class  purchase_week  encoded_user_type  \n",
       "102         a             new              0                0.0  \n",
       "435         c        existing              2                2.0  \n",
       "860         d  loyal_existing              3                3.0  \n",
       "270         d  loyal_existing              2                3.0  \n",
       "106         c        existing              3                2.0  "
      ]
     },
     "metadata": {},
     "output_type": "display_data"
    }
   ],
   "source": [
    "display(df.sample(frac=0.2, replace=True, random_state=42).head())"
   ]
  },
  {
   "cell_type": "markdown",
   "metadata": {},
   "source": [
    "# Normalizing Numeric Values"
   ]
  },
  {
   "cell_type": "markdown",
   "metadata": {},
   "source": [
    "Normalize price values using Min-Max Scaler"
   ]
  },
  {
   "cell_type": "code",
   "execution_count": 47,
   "metadata": {},
   "outputs": [],
   "source": [
    "df_normalized = df.dropna().copy()\n",
    "min_max_scaler = preprocessing.MinMaxScaler()\n",
    "np_scaled = min_max_scaler.fit_transform(df_normalized['price'].values.reshape(-1,1))\n",
    "df_normalized['price'] = np_scaled.reshape(-1,1)"
   ]
  },
  {
   "cell_type": "code",
   "execution_count": 48,
   "metadata": {},
   "outputs": [
    {
     "data": {
      "text/html": [
       "<div>\n",
       "<style scoped>\n",
       "    .dataframe tbody tr th:only-of-type {\n",
       "        vertical-align: middle;\n",
       "    }\n",
       "\n",
       "    .dataframe tbody tr th {\n",
       "        vertical-align: top;\n",
       "    }\n",
       "\n",
       "    .dataframe thead th {\n",
       "        text-align: right;\n",
       "    }\n",
       "</style>\n",
       "<table border=\"1\" class=\"dataframe\">\n",
       "  <thead>\n",
       "    <tr style=\"text-align: right;\">\n",
       "      <th></th>\n",
       "      <th>serial_no</th>\n",
       "      <th>date</th>\n",
       "      <th>user_id</th>\n",
       "      <th>product_id</th>\n",
       "      <th>quantity_purchased</th>\n",
       "      <th>price</th>\n",
       "      <th>user_type</th>\n",
       "      <th>user_class</th>\n",
       "      <th>purchase_week</th>\n",
       "      <th>encoded_user_type</th>\n",
       "    </tr>\n",
       "  </thead>\n",
       "  <tbody>\n",
       "    <tr>\n",
       "      <th>29</th>\n",
       "      <td>1029</td>\n",
       "      <td>2016-01-31</td>\n",
       "      <td>5308</td>\n",
       "      <td>274</td>\n",
       "      <td>21</td>\n",
       "      <td>0.613604</td>\n",
       "      <td>b</td>\n",
       "      <td>new</td>\n",
       "      <td>4</td>\n",
       "      <td>1.0</td>\n",
       "    </tr>\n",
       "    <tr>\n",
       "      <th>30</th>\n",
       "      <td>1030</td>\n",
       "      <td>2016-02-02</td>\n",
       "      <td>5333</td>\n",
       "      <td>704</td>\n",
       "      <td>4</td>\n",
       "      <td>0.365261</td>\n",
       "      <td>d</td>\n",
       "      <td>loyal_existing</td>\n",
       "      <td>5</td>\n",
       "      <td>3.0</td>\n",
       "    </tr>\n",
       "    <tr>\n",
       "      <th>31</th>\n",
       "      <td>1031</td>\n",
       "      <td>2016-04-02</td>\n",
       "      <td>5128</td>\n",
       "      <td>230</td>\n",
       "      <td>34</td>\n",
       "      <td>0.372486</td>\n",
       "      <td>b</td>\n",
       "      <td>new</td>\n",
       "      <td>13</td>\n",
       "      <td>1.0</td>\n",
       "    </tr>\n",
       "    <tr>\n",
       "      <th>34</th>\n",
       "      <td>1034</td>\n",
       "      <td>2016-01-23</td>\n",
       "      <td>5235</td>\n",
       "      <td>212</td>\n",
       "      <td>22</td>\n",
       "      <td>0.063484</td>\n",
       "      <td>d</td>\n",
       "      <td>loyal_existing</td>\n",
       "      <td>3</td>\n",
       "      <td>3.0</td>\n",
       "    </tr>\n",
       "    <tr>\n",
       "      <th>36</th>\n",
       "      <td>1036</td>\n",
       "      <td>2016-01-23</td>\n",
       "      <td>5767</td>\n",
       "      <td>192</td>\n",
       "      <td>41</td>\n",
       "      <td>0.147433</td>\n",
       "      <td>d</td>\n",
       "      <td>loyal_existing</td>\n",
       "      <td>3</td>\n",
       "      <td>3.0</td>\n",
       "    </tr>\n",
       "  </tbody>\n",
       "</table>\n",
       "</div>"
      ],
      "text/plain": [
       "    serial_no       date  user_id  product_id  quantity_purchased     price  \\\n",
       "29       1029 2016-01-31     5308         274                  21  0.613604   \n",
       "30       1030 2016-02-02     5333         704                   4  0.365261   \n",
       "31       1031 2016-04-02     5128         230                  34  0.372486   \n",
       "34       1034 2016-01-23     5235         212                  22  0.063484   \n",
       "36       1036 2016-01-23     5767         192                  41  0.147433   \n",
       "\n",
       "   user_type      user_class  purchase_week  encoded_user_type  \n",
       "29         b             new              4                1.0  \n",
       "30         d  loyal_existing              5                3.0  \n",
       "31         b             new             13                1.0  \n",
       "34         d  loyal_existing              3                3.0  \n",
       "36         d  loyal_existing              3                3.0  "
      ]
     },
     "metadata": {},
     "output_type": "display_data"
    }
   ],
   "source": [
    "display(df_normalized.head())"
   ]
  },
  {
   "cell_type": "markdown",
   "metadata": {},
   "source": [
    "Normalize quantity purchased values using Robust Scaler"
   ]
  },
  {
   "cell_type": "code",
   "execution_count": 49,
   "metadata": {},
   "outputs": [],
   "source": [
    "\n",
    "df_normalized = df.dropna().copy()\n",
    "robust_scaler = preprocessing.RobustScaler()\n",
    "rs_scaled = robust_scaler.fit_transform(df_normalized['quantity_purchased'].values.reshape(-1,1))\n",
    "df_normalized['quantity_purchased'] = rs_scaled.reshape(-1,1)"
   ]
  },
  {
   "cell_type": "code",
   "execution_count": 50,
   "metadata": {},
   "outputs": [
    {
     "data": {
      "text/html": [
       "<div>\n",
       "<style scoped>\n",
       "    .dataframe tbody tr th:only-of-type {\n",
       "        vertical-align: middle;\n",
       "    }\n",
       "\n",
       "    .dataframe tbody tr th {\n",
       "        vertical-align: top;\n",
       "    }\n",
       "\n",
       "    .dataframe thead th {\n",
       "        text-align: right;\n",
       "    }\n",
       "</style>\n",
       "<table border=\"1\" class=\"dataframe\">\n",
       "  <thead>\n",
       "    <tr style=\"text-align: right;\">\n",
       "      <th></th>\n",
       "      <th>serial_no</th>\n",
       "      <th>date</th>\n",
       "      <th>user_id</th>\n",
       "      <th>product_id</th>\n",
       "      <th>quantity_purchased</th>\n",
       "      <th>price</th>\n",
       "      <th>user_type</th>\n",
       "      <th>user_class</th>\n",
       "      <th>purchase_week</th>\n",
       "      <th>encoded_user_type</th>\n",
       "    </tr>\n",
       "  </thead>\n",
       "  <tbody>\n",
       "    <tr>\n",
       "      <th>29</th>\n",
       "      <td>1029</td>\n",
       "      <td>2016-01-31</td>\n",
       "      <td>5308</td>\n",
       "      <td>274</td>\n",
       "      <td>-0.090909</td>\n",
       "      <td>4930.62</td>\n",
       "      <td>b</td>\n",
       "      <td>new</td>\n",
       "      <td>4</td>\n",
       "      <td>1.0</td>\n",
       "    </tr>\n",
       "    <tr>\n",
       "      <th>30</th>\n",
       "      <td>1030</td>\n",
       "      <td>2016-02-02</td>\n",
       "      <td>5333</td>\n",
       "      <td>704</td>\n",
       "      <td>-0.863636</td>\n",
       "      <td>2937.09</td>\n",
       "      <td>d</td>\n",
       "      <td>loyal_existing</td>\n",
       "      <td>5</td>\n",
       "      <td>3.0</td>\n",
       "    </tr>\n",
       "    <tr>\n",
       "      <th>31</th>\n",
       "      <td>1031</td>\n",
       "      <td>2016-04-02</td>\n",
       "      <td>5128</td>\n",
       "      <td>230</td>\n",
       "      <td>0.500000</td>\n",
       "      <td>2995.09</td>\n",
       "      <td>b</td>\n",
       "      <td>new</td>\n",
       "      <td>13</td>\n",
       "      <td>1.0</td>\n",
       "    </tr>\n",
       "    <tr>\n",
       "      <th>34</th>\n",
       "      <td>1034</td>\n",
       "      <td>2016-01-23</td>\n",
       "      <td>5235</td>\n",
       "      <td>212</td>\n",
       "      <td>-0.045455</td>\n",
       "      <td>514.63</td>\n",
       "      <td>d</td>\n",
       "      <td>loyal_existing</td>\n",
       "      <td>3</td>\n",
       "      <td>3.0</td>\n",
       "    </tr>\n",
       "    <tr>\n",
       "      <th>36</th>\n",
       "      <td>1036</td>\n",
       "      <td>2016-01-23</td>\n",
       "      <td>5767</td>\n",
       "      <td>192</td>\n",
       "      <td>0.818182</td>\n",
       "      <td>1188.51</td>\n",
       "      <td>d</td>\n",
       "      <td>loyal_existing</td>\n",
       "      <td>3</td>\n",
       "      <td>3.0</td>\n",
       "    </tr>\n",
       "  </tbody>\n",
       "</table>\n",
       "</div>"
      ],
      "text/plain": [
       "    serial_no       date  user_id  product_id  quantity_purchased    price  \\\n",
       "29       1029 2016-01-31     5308         274           -0.090909  4930.62   \n",
       "30       1030 2016-02-02     5333         704           -0.863636  2937.09   \n",
       "31       1031 2016-04-02     5128         230            0.500000  2995.09   \n",
       "34       1034 2016-01-23     5235         212           -0.045455   514.63   \n",
       "36       1036 2016-01-23     5767         192            0.818182  1188.51   \n",
       "\n",
       "   user_type      user_class  purchase_week  encoded_user_type  \n",
       "29         b             new              4                1.0  \n",
       "30         d  loyal_existing              5                3.0  \n",
       "31         b             new             13                1.0  \n",
       "34         d  loyal_existing              3                3.0  \n",
       "36         d  loyal_existing              3                3.0  "
      ]
     },
     "metadata": {},
     "output_type": "display_data"
    }
   ],
   "source": [
    "display(df_normalized.head())"
   ]
  },
  {
   "cell_type": "markdown",
   "metadata": {},
   "source": [
    "# Data Summarization"
   ]
  },
  {
   "cell_type": "markdown",
   "metadata": {},
   "source": [
    "Condition based aggregation"
   ]
  },
  {
   "cell_type": "code",
   "execution_count": 51,
   "metadata": {},
   "outputs": [
    {
     "name": "stdout",
     "output_type": "stream",
     "text": [
      "Mean price of items purchased by user_type=a :: 2245.081289062502\n"
     ]
    }
   ],
   "source": [
    "print(\"Mean price of items purchased by user_type=a :: {}\".format(df['price'][df['user_type']=='a'].mean()))"
   ]
  },
  {
   "cell_type": "markdown",
   "metadata": {},
   "source": [
    "Condtion based counts"
   ]
  },
  {
   "cell_type": "code",
   "execution_count": 52,
   "metadata": {},
   "outputs": [
    {
     "name": "stdout",
     "output_type": "stream",
     "text": [
      "3     149\n",
      "4     140\n",
      "2     120\n",
      "35     61\n",
      "39     56\n",
      "22     55\n",
      "26     53\n",
      "5      52\n",
      "13     51\n",
      "44     46\n",
      "53     43\n",
      "31     41\n",
      "9      36\n",
      "18     31\n",
      "0      30\n",
      "17     20\n",
      "48     16\n",
      "Name: purchase_week, dtype: int64\n"
     ]
    }
   ],
   "source": [
    "print(df['purchase_week'].value_counts())"
   ]
  },
  {
   "cell_type": "markdown",
   "metadata": {},
   "source": [
    "# Group By"
   ]
  },
  {
   "cell_type": "markdown",
   "metadata": {},
   "source": [
    "Group By certain attributes"
   ]
  },
  {
   "cell_type": "code",
   "execution_count": 53,
   "metadata": {},
   "outputs": [
    {
     "name": "stdout",
     "output_type": "stream",
     "text": [
      "user_class\n",
      "error               594\n",
      "existing           5332\n",
      "loyal_existing     4682\n",
      "new               11222\n",
      "Name: quantity_purchased, dtype: int32\n"
     ]
    }
   ],
   "source": [
    "print(df.groupby(['user_class'])['quantity_purchased'].sum())"
   ]
  },
  {
   "cell_type": "markdown",
   "metadata": {},
   "source": [
    "Group By with different aggregate functions"
   ]
  },
  {
   "cell_type": "code",
   "execution_count": 54,
   "metadata": {},
   "outputs": [
    {
     "data": {
      "text/html": [
       "<div>\n",
       "<style scoped>\n",
       "    .dataframe tbody tr th:only-of-type {\n",
       "        vertical-align: middle;\n",
       "    }\n",
       "\n",
       "    .dataframe tbody tr th {\n",
       "        vertical-align: top;\n",
       "    }\n",
       "\n",
       "    .dataframe thead th {\n",
       "        text-align: right;\n",
       "    }\n",
       "</style>\n",
       "<table border=\"1\" class=\"dataframe\">\n",
       "  <thead>\n",
       "    <tr style=\"text-align: right;\">\n",
       "      <th></th>\n",
       "      <th>sum</th>\n",
       "      <th>mean</th>\n",
       "      <th>count_nonzero</th>\n",
       "    </tr>\n",
       "    <tr>\n",
       "      <th>user_class</th>\n",
       "      <th></th>\n",
       "      <th></th>\n",
       "      <th></th>\n",
       "    </tr>\n",
       "  </thead>\n",
       "  <tbody>\n",
       "    <tr>\n",
       "      <th>error</th>\n",
       "      <td>594</td>\n",
       "      <td>19.161290</td>\n",
       "      <td>31</td>\n",
       "    </tr>\n",
       "    <tr>\n",
       "      <th>existing</th>\n",
       "      <td>5332</td>\n",
       "      <td>23.082251</td>\n",
       "      <td>231</td>\n",
       "    </tr>\n",
       "    <tr>\n",
       "      <th>loyal_existing</th>\n",
       "      <td>4682</td>\n",
       "      <td>20.716814</td>\n",
       "      <td>226</td>\n",
       "    </tr>\n",
       "    <tr>\n",
       "      <th>new</th>\n",
       "      <td>11222</td>\n",
       "      <td>21.917969</td>\n",
       "      <td>512</td>\n",
       "    </tr>\n",
       "  </tbody>\n",
       "</table>\n",
       "</div>"
      ],
      "text/plain": [
       "                  sum       mean  count_nonzero\n",
       "user_class                                     \n",
       "error             594  19.161290             31\n",
       "existing         5332  23.082251            231\n",
       "loyal_existing   4682  20.716814            226\n",
       "new             11222  21.917969            512"
      ]
     },
     "metadata": {},
     "output_type": "display_data"
    }
   ],
   "source": [
    "display(df.groupby(['user_class'])['quantity_purchased'].agg([np.sum,\n",
    "                                                                np.mean,\n",
    "                                                                np.count_nonzero]))"
   ]
  },
  {
   "cell_type": "markdown",
   "metadata": {},
   "source": [
    "- Group by specific aggregate functions for each attribute"
   ]
  },
  {
   "cell_type": "code",
   "execution_count": 55,
   "metadata": {},
   "outputs": [
    {
     "data": {
      "text/html": [
       "<div>\n",
       "<style scoped>\n",
       "    .dataframe tbody tr th:only-of-type {\n",
       "        vertical-align: middle;\n",
       "    }\n",
       "\n",
       "    .dataframe tbody tr th {\n",
       "        vertical-align: top;\n",
       "    }\n",
       "\n",
       "    .dataframe thead th {\n",
       "        text-align: right;\n",
       "    }\n",
       "</style>\n",
       "<table border=\"1\" class=\"dataframe\">\n",
       "  <thead>\n",
       "    <tr style=\"text-align: right;\">\n",
       "      <th></th>\n",
       "      <th></th>\n",
       "      <th>price</th>\n",
       "      <th>quantity_purchased</th>\n",
       "    </tr>\n",
       "    <tr>\n",
       "      <th>user_class</th>\n",
       "      <th>user_type</th>\n",
       "      <th></th>\n",
       "      <th></th>\n",
       "    </tr>\n",
       "  </thead>\n",
       "  <tbody>\n",
       "    <tr>\n",
       "      <th>error</th>\n",
       "      <th>n</th>\n",
       "      <td>2269.061333</td>\n",
       "      <td>40</td>\n",
       "    </tr>\n",
       "    <tr>\n",
       "      <th>existing</th>\n",
       "      <th>c</th>\n",
       "      <td>2308.342345</td>\n",
       "      <td>41</td>\n",
       "    </tr>\n",
       "    <tr>\n",
       "      <th>loyal_existing</th>\n",
       "      <th>d</th>\n",
       "      <td>2174.455364</td>\n",
       "      <td>41</td>\n",
       "    </tr>\n",
       "    <tr>\n",
       "      <th rowspan=\"2\" valign=\"top\">new</th>\n",
       "      <th>a</th>\n",
       "      <td>2245.081289</td>\n",
       "      <td>41</td>\n",
       "    </tr>\n",
       "    <tr>\n",
       "      <th>b</th>\n",
       "      <td>2283.662068</td>\n",
       "      <td>41</td>\n",
       "    </tr>\n",
       "  </tbody>\n",
       "</table>\n",
       "</div>"
      ],
      "text/plain": [
       "                                price  quantity_purchased\n",
       "user_class     user_type                                 \n",
       "error          n          2269.061333                  40\n",
       "existing       c          2308.342345                  41\n",
       "loyal_existing d          2174.455364                  41\n",
       "new            a          2245.081289                  41\n",
       "               b          2283.662068                  41"
      ]
     },
     "metadata": {},
     "output_type": "display_data"
    }
   ],
   "source": [
    "display(df.groupby(['user_class','user_type']).agg({'price':np.mean,\n",
    "                                                        'quantity_purchased':np.max}))"
   ]
  },
  {
   "cell_type": "markdown",
   "metadata": {},
   "source": [
    "- Group by with multiple agg for each attribute"
   ]
  },
  {
   "cell_type": "code",
   "execution_count": 56,
   "metadata": {},
   "outputs": [
    {
     "name": "stderr",
     "output_type": "stream",
     "text": [
      "C:\\Users\\Shashi Surya\\Anaconda3\\lib\\site-packages\\pandas\\core\\groupby\\generic.py:1315: FutureWarning: using a dict with renaming is deprecated and will be removed in a future version\n",
      "  return super(DataFrameGroupBy, self).aggregate(arg, *args, **kwargs)\n"
     ]
    },
    {
     "data": {
      "text/html": [
       "<div>\n",
       "<style scoped>\n",
       "    .dataframe tbody tr th:only-of-type {\n",
       "        vertical-align: middle;\n",
       "    }\n",
       "\n",
       "    .dataframe tbody tr th {\n",
       "        vertical-align: top;\n",
       "    }\n",
       "\n",
       "    .dataframe thead tr th {\n",
       "        text-align: left;\n",
       "    }\n",
       "\n",
       "    .dataframe thead tr:last-of-type th {\n",
       "        text-align: right;\n",
       "    }\n",
       "</style>\n",
       "<table border=\"1\" class=\"dataframe\">\n",
       "  <thead>\n",
       "    <tr>\n",
       "      <th></th>\n",
       "      <th></th>\n",
       "      <th colspan=\"4\" halign=\"left\">price</th>\n",
       "      <th>quantity_purchased</th>\n",
       "    </tr>\n",
       "    <tr>\n",
       "      <th></th>\n",
       "      <th></th>\n",
       "      <th>total_price</th>\n",
       "      <th>mean_price</th>\n",
       "      <th>variance_price</th>\n",
       "      <th>count</th>\n",
       "      <th>sum</th>\n",
       "    </tr>\n",
       "    <tr>\n",
       "      <th>user_class</th>\n",
       "      <th>user_type</th>\n",
       "      <th></th>\n",
       "      <th></th>\n",
       "      <th></th>\n",
       "      <th></th>\n",
       "      <th></th>\n",
       "    </tr>\n",
       "  </thead>\n",
       "  <tbody>\n",
       "    <tr>\n",
       "      <th>error</th>\n",
       "      <th>n</th>\n",
       "      <td>68071.84</td>\n",
       "      <td>2269.061333</td>\n",
       "      <td>1282.604261</td>\n",
       "      <td>31.0</td>\n",
       "      <td>594</td>\n",
       "    </tr>\n",
       "    <tr>\n",
       "      <th>existing</th>\n",
       "      <th>c</th>\n",
       "      <td>521685.37</td>\n",
       "      <td>2308.342345</td>\n",
       "      <td>1607.196787</td>\n",
       "      <td>231.0</td>\n",
       "      <td>5332</td>\n",
       "    </tr>\n",
       "    <tr>\n",
       "      <th>loyal_existing</th>\n",
       "      <th>d</th>\n",
       "      <td>478380.18</td>\n",
       "      <td>2174.455364</td>\n",
       "      <td>1486.390462</td>\n",
       "      <td>226.0</td>\n",
       "      <td>4682</td>\n",
       "    </tr>\n",
       "    <tr>\n",
       "      <th rowspan=\"2\" valign=\"top\">new</th>\n",
       "      <th>a</th>\n",
       "      <td>574740.81</td>\n",
       "      <td>2245.081289</td>\n",
       "      <td>1528.380769</td>\n",
       "      <td>265.0</td>\n",
       "      <td>5924</td>\n",
       "    </tr>\n",
       "    <tr>\n",
       "      <th>b</th>\n",
       "      <td>541227.91</td>\n",
       "      <td>2283.662068</td>\n",
       "      <td>1513.320546</td>\n",
       "      <td>247.0</td>\n",
       "      <td>5298</td>\n",
       "    </tr>\n",
       "  </tbody>\n",
       "</table>\n",
       "</div>"
      ],
      "text/plain": [
       "                               price                                     \\\n",
       "                         total_price   mean_price variance_price  count   \n",
       "user_class     user_type                                                  \n",
       "error          n            68071.84  2269.061333    1282.604261   31.0   \n",
       "existing       c           521685.37  2308.342345    1607.196787  231.0   \n",
       "loyal_existing d           478380.18  2174.455364    1486.390462  226.0   \n",
       "new            a           574740.81  2245.081289    1528.380769  265.0   \n",
       "               b           541227.91  2283.662068    1513.320546  247.0   \n",
       "\n",
       "                         quantity_purchased  \n",
       "                                        sum  \n",
       "user_class     user_type                     \n",
       "error          n                        594  \n",
       "existing       c                       5332  \n",
       "loyal_existing d                       4682  \n",
       "new            a                       5924  \n",
       "               b                       5298  "
      ]
     },
     "metadata": {},
     "output_type": "display_data"
    }
   ],
   "source": [
    "\n",
    "display(df.groupby(['user_class','user_type']).agg({'price':{\n",
    "                                                                'total_price':np.sum,\n",
    "                                                                'mean_price':np.mean,\n",
    "                                                                'variance_price':np.std,\n",
    "                                                                'count':np.count_nonzero},\n",
    "                                                   'quantity_purchased':np.sum}))"
   ]
  },
  {
   "cell_type": "markdown",
   "metadata": {},
   "source": [
    "# Pivot Tables"
   ]
  },
  {
   "cell_type": "code",
   "execution_count": 58,
   "metadata": {},
   "outputs": [
    {
     "data": {
      "text/html": [
       "<div>\n",
       "<style scoped>\n",
       "    .dataframe tbody tr th:only-of-type {\n",
       "        vertical-align: middle;\n",
       "    }\n",
       "\n",
       "    .dataframe tbody tr th {\n",
       "        vertical-align: top;\n",
       "    }\n",
       "\n",
       "    .dataframe thead th {\n",
       "        text-align: right;\n",
       "    }\n",
       "</style>\n",
       "<table border=\"1\" class=\"dataframe\">\n",
       "  <thead>\n",
       "    <tr style=\"text-align: right;\">\n",
       "      <th>user_type</th>\n",
       "      <th>a</th>\n",
       "      <th>b</th>\n",
       "      <th>c</th>\n",
       "      <th>d</th>\n",
       "      <th>n</th>\n",
       "    </tr>\n",
       "    <tr>\n",
       "      <th>date</th>\n",
       "      <th></th>\n",
       "      <th></th>\n",
       "      <th></th>\n",
       "      <th></th>\n",
       "      <th></th>\n",
       "    </tr>\n",
       "  </thead>\n",
       "  <tbody>\n",
       "    <tr>\n",
       "      <th>2016-01-01</th>\n",
       "      <td>1167.043333</td>\n",
       "      <td>2178.802857</td>\n",
       "      <td>2909.806000</td>\n",
       "      <td>2524.406667</td>\n",
       "      <td>1297.020000</td>\n",
       "    </tr>\n",
       "    <tr>\n",
       "      <th>2016-01-02</th>\n",
       "      <td>1696.651429</td>\n",
       "      <td>653.420000</td>\n",
       "      <td>1713.341667</td>\n",
       "      <td>2427.224444</td>\n",
       "      <td>NaN</td>\n",
       "    </tr>\n",
       "    <tr>\n",
       "      <th>2016-01-13</th>\n",
       "      <td>2155.555000</td>\n",
       "      <td>2898.016667</td>\n",
       "      <td>2918.472000</td>\n",
       "      <td>2568.806000</td>\n",
       "      <td>4000.170000</td>\n",
       "    </tr>\n",
       "    <tr>\n",
       "      <th>2016-01-14</th>\n",
       "      <td>3613.532500</td>\n",
       "      <td>3180.631667</td>\n",
       "      <td>3078.593333</td>\n",
       "      <td>2390.721250</td>\n",
       "      <td>NaN</td>\n",
       "    </tr>\n",
       "    <tr>\n",
       "      <th>2016-01-15</th>\n",
       "      <td>1907.062857</td>\n",
       "      <td>2711.813750</td>\n",
       "      <td>1270.266000</td>\n",
       "      <td>2122.863750</td>\n",
       "      <td>NaN</td>\n",
       "    </tr>\n",
       "    <tr>\n",
       "      <th>2016-01-16</th>\n",
       "      <td>2014.672000</td>\n",
       "      <td>2415.720000</td>\n",
       "      <td>3257.690000</td>\n",
       "      <td>2112.666667</td>\n",
       "      <td>NaN</td>\n",
       "    </tr>\n",
       "    <tr>\n",
       "      <th>2016-01-17</th>\n",
       "      <td>2864.722500</td>\n",
       "      <td>1084.162000</td>\n",
       "      <td>2486.072500</td>\n",
       "      <td>1720.836667</td>\n",
       "      <td>NaN</td>\n",
       "    </tr>\n",
       "    <tr>\n",
       "      <th>2016-01-18</th>\n",
       "      <td>2310.068750</td>\n",
       "      <td>3667.945000</td>\n",
       "      <td>1918.634286</td>\n",
       "      <td>1296.370000</td>\n",
       "      <td>NaN</td>\n",
       "    </tr>\n",
       "    <tr>\n",
       "      <th>2016-01-19</th>\n",
       "      <td>2364.998571</td>\n",
       "      <td>2278.413333</td>\n",
       "      <td>1233.700000</td>\n",
       "      <td>1775.825000</td>\n",
       "      <td>NaN</td>\n",
       "    </tr>\n",
       "    <tr>\n",
       "      <th>2016-01-20</th>\n",
       "      <td>3868.797500</td>\n",
       "      <td>1369.603333</td>\n",
       "      <td>2994.215000</td>\n",
       "      <td>2291.017143</td>\n",
       "      <td>4426.060000</td>\n",
       "    </tr>\n",
       "    <tr>\n",
       "      <th>2016-01-21</th>\n",
       "      <td>3624.295000</td>\n",
       "      <td>1698.516667</td>\n",
       "      <td>2352.416667</td>\n",
       "      <td>1955.992500</td>\n",
       "      <td>NaN</td>\n",
       "    </tr>\n",
       "    <tr>\n",
       "      <th>2016-01-22</th>\n",
       "      <td>2467.682000</td>\n",
       "      <td>2215.726000</td>\n",
       "      <td>2583.074286</td>\n",
       "      <td>2601.590000</td>\n",
       "      <td>NaN</td>\n",
       "    </tr>\n",
       "    <tr>\n",
       "      <th>2016-01-23</th>\n",
       "      <td>3464.798333</td>\n",
       "      <td>2336.672500</td>\n",
       "      <td>2134.171667</td>\n",
       "      <td>2415.622000</td>\n",
       "      <td>NaN</td>\n",
       "    </tr>\n",
       "    <tr>\n",
       "      <th>2016-01-24</th>\n",
       "      <td>3648.406667</td>\n",
       "      <td>2178.830000</td>\n",
       "      <td>699.263333</td>\n",
       "      <td>747.780000</td>\n",
       "      <td>1185.510000</td>\n",
       "    </tr>\n",
       "    <tr>\n",
       "      <th>2016-01-25</th>\n",
       "      <td>4234.030000</td>\n",
       "      <td>3327.047500</td>\n",
       "      <td>2888.238333</td>\n",
       "      <td>2716.050000</td>\n",
       "      <td>NaN</td>\n",
       "    </tr>\n",
       "    <tr>\n",
       "      <th>2016-01-26</th>\n",
       "      <td>2925.925714</td>\n",
       "      <td>1538.943750</td>\n",
       "      <td>2799.802000</td>\n",
       "      <td>1691.500000</td>\n",
       "      <td>5248.370000</td>\n",
       "    </tr>\n",
       "    <tr>\n",
       "      <th>2016-01-27</th>\n",
       "      <td>2219.223333</td>\n",
       "      <td>2096.083333</td>\n",
       "      <td>1831.280000</td>\n",
       "      <td>1931.781429</td>\n",
       "      <td>NaN</td>\n",
       "    </tr>\n",
       "    <tr>\n",
       "      <th>2016-01-28</th>\n",
       "      <td>2534.963750</td>\n",
       "      <td>2845.932500</td>\n",
       "      <td>4974.150000</td>\n",
       "      <td>1759.443333</td>\n",
       "      <td>2346.060000</td>\n",
       "    </tr>\n",
       "    <tr>\n",
       "      <th>2016-01-29</th>\n",
       "      <td>2129.315000</td>\n",
       "      <td>1733.348750</td>\n",
       "      <td>2536.516667</td>\n",
       "      <td>2847.190000</td>\n",
       "      <td>NaN</td>\n",
       "    </tr>\n",
       "    <tr>\n",
       "      <th>2016-01-30</th>\n",
       "      <td>2727.615000</td>\n",
       "      <td>2098.467500</td>\n",
       "      <td>2555.965000</td>\n",
       "      <td>2409.265000</td>\n",
       "      <td>NaN</td>\n",
       "    </tr>\n",
       "    <tr>\n",
       "      <th>2016-01-31</th>\n",
       "      <td>2034.995000</td>\n",
       "      <td>2707.111250</td>\n",
       "      <td>2021.730000</td>\n",
       "      <td>1703.310000</td>\n",
       "      <td>NaN</td>\n",
       "    </tr>\n",
       "    <tr>\n",
       "      <th>2016-02-01</th>\n",
       "      <td>1808.540000</td>\n",
       "      <td>2001.906667</td>\n",
       "      <td>2181.627500</td>\n",
       "      <td>3148.086000</td>\n",
       "      <td>2899.770000</td>\n",
       "    </tr>\n",
       "    <tr>\n",
       "      <th>2016-02-02</th>\n",
       "      <td>3046.416000</td>\n",
       "      <td>1725.954286</td>\n",
       "      <td>2030.947000</td>\n",
       "      <td>2915.524000</td>\n",
       "      <td>NaN</td>\n",
       "    </tr>\n",
       "    <tr>\n",
       "      <th>2016-03-01</th>\n",
       "      <td>1954.858000</td>\n",
       "      <td>2835.780000</td>\n",
       "      <td>1951.830000</td>\n",
       "      <td>2476.687500</td>\n",
       "      <td>NaN</td>\n",
       "    </tr>\n",
       "    <tr>\n",
       "      <th>2016-03-02</th>\n",
       "      <td>1651.465000</td>\n",
       "      <td>1968.578571</td>\n",
       "      <td>2147.387500</td>\n",
       "      <td>1650.130000</td>\n",
       "      <td>NaN</td>\n",
       "    </tr>\n",
       "    <tr>\n",
       "      <th>2016-04-01</th>\n",
       "      <td>1680.020000</td>\n",
       "      <td>2412.982857</td>\n",
       "      <td>2376.590000</td>\n",
       "      <td>3024.986667</td>\n",
       "      <td>NaN</td>\n",
       "    </tr>\n",
       "    <tr>\n",
       "      <th>2016-04-02</th>\n",
       "      <td>1399.578571</td>\n",
       "      <td>2638.755000</td>\n",
       "      <td>2092.621667</td>\n",
       "      <td>2890.935000</td>\n",
       "      <td>1721.430000</td>\n",
       "    </tr>\n",
       "    <tr>\n",
       "      <th>2016-05-01</th>\n",
       "      <td>1859.596667</td>\n",
       "      <td>2245.173333</td>\n",
       "      <td>2254.810000</td>\n",
       "      <td>2552.622000</td>\n",
       "      <td>NaN</td>\n",
       "    </tr>\n",
       "    <tr>\n",
       "      <th>2016-05-02</th>\n",
       "      <td>1794.857500</td>\n",
       "      <td>1817.850000</td>\n",
       "      <td>2931.136364</td>\n",
       "      <td>1082.610000</td>\n",
       "      <td>3102.016667</td>\n",
       "    </tr>\n",
       "    <tr>\n",
       "      <th>2016-06-01</th>\n",
       "      <td>2300.578333</td>\n",
       "      <td>1605.897778</td>\n",
       "      <td>3205.231429</td>\n",
       "      <td>2628.304286</td>\n",
       "      <td>NaN</td>\n",
       "    </tr>\n",
       "    <tr>\n",
       "      <th>2016-06-02</th>\n",
       "      <td>3034.288182</td>\n",
       "      <td>2289.996667</td>\n",
       "      <td>2775.522500</td>\n",
       "      <td>827.208333</td>\n",
       "      <td>NaN</td>\n",
       "    </tr>\n",
       "    <tr>\n",
       "      <th>2016-07-01</th>\n",
       "      <td>2412.927778</td>\n",
       "      <td>3213.734286</td>\n",
       "      <td>2805.960000</td>\n",
       "      <td>642.795000</td>\n",
       "      <td>NaN</td>\n",
       "    </tr>\n",
       "    <tr>\n",
       "      <th>2016-07-02</th>\n",
       "      <td>2534.850000</td>\n",
       "      <td>2896.056667</td>\n",
       "      <td>2678.763333</td>\n",
       "      <td>2104.474545</td>\n",
       "      <td>1491.000000</td>\n",
       "    </tr>\n",
       "    <tr>\n",
       "      <th>2016-08-01</th>\n",
       "      <td>803.292500</td>\n",
       "      <td>1958.610000</td>\n",
       "      <td>1839.364000</td>\n",
       "      <td>1115.956000</td>\n",
       "      <td>NaN</td>\n",
       "    </tr>\n",
       "    <tr>\n",
       "      <th>2016-08-02</th>\n",
       "      <td>2084.190000</td>\n",
       "      <td>2050.194000</td>\n",
       "      <td>2803.023333</td>\n",
       "      <td>2330.200000</td>\n",
       "      <td>NaN</td>\n",
       "    </tr>\n",
       "    <tr>\n",
       "      <th>2016-09-01</th>\n",
       "      <td>1225.190833</td>\n",
       "      <td>2438.078000</td>\n",
       "      <td>1833.570000</td>\n",
       "      <td>2877.388000</td>\n",
       "      <td>1398.150000</td>\n",
       "    </tr>\n",
       "    <tr>\n",
       "      <th>2016-09-02</th>\n",
       "      <td>1807.445556</td>\n",
       "      <td>1761.630000</td>\n",
       "      <td>1917.033750</td>\n",
       "      <td>1729.525000</td>\n",
       "      <td>NaN</td>\n",
       "    </tr>\n",
       "    <tr>\n",
       "      <th>2016-10-01</th>\n",
       "      <td>2009.740000</td>\n",
       "      <td>2378.408889</td>\n",
       "      <td>1577.294000</td>\n",
       "      <td>1823.143333</td>\n",
       "      <td>NaN</td>\n",
       "    </tr>\n",
       "    <tr>\n",
       "      <th>2016-10-02</th>\n",
       "      <td>1814.753333</td>\n",
       "      <td>2575.461667</td>\n",
       "      <td>1923.068889</td>\n",
       "      <td>2559.887500</td>\n",
       "      <td>NaN</td>\n",
       "    </tr>\n",
       "    <tr>\n",
       "      <th>2016-11-01</th>\n",
       "      <td>1872.420000</td>\n",
       "      <td>2642.135714</td>\n",
       "      <td>2763.780000</td>\n",
       "      <td>1791.992500</td>\n",
       "      <td>NaN</td>\n",
       "    </tr>\n",
       "    <tr>\n",
       "      <th>2016-11-02</th>\n",
       "      <td>1885.607500</td>\n",
       "      <td>2425.530000</td>\n",
       "      <td>2510.187500</td>\n",
       "      <td>2452.290000</td>\n",
       "      <td>2415.960000</td>\n",
       "    </tr>\n",
       "    <tr>\n",
       "      <th>2016-12-01</th>\n",
       "      <td>1234.840000</td>\n",
       "      <td>2897.877500</td>\n",
       "      <td>624.747500</td>\n",
       "      <td>2399.705000</td>\n",
       "      <td>NaN</td>\n",
       "    </tr>\n",
       "  </tbody>\n",
       "</table>\n",
       "</div>"
      ],
      "text/plain": [
       "user_type             a            b            c            d            n\n",
       "date                                                                       \n",
       "2016-01-01  1167.043333  2178.802857  2909.806000  2524.406667  1297.020000\n",
       "2016-01-02  1696.651429   653.420000  1713.341667  2427.224444          NaN\n",
       "2016-01-13  2155.555000  2898.016667  2918.472000  2568.806000  4000.170000\n",
       "2016-01-14  3613.532500  3180.631667  3078.593333  2390.721250          NaN\n",
       "2016-01-15  1907.062857  2711.813750  1270.266000  2122.863750          NaN\n",
       "2016-01-16  2014.672000  2415.720000  3257.690000  2112.666667          NaN\n",
       "2016-01-17  2864.722500  1084.162000  2486.072500  1720.836667          NaN\n",
       "2016-01-18  2310.068750  3667.945000  1918.634286  1296.370000          NaN\n",
       "2016-01-19  2364.998571  2278.413333  1233.700000  1775.825000          NaN\n",
       "2016-01-20  3868.797500  1369.603333  2994.215000  2291.017143  4426.060000\n",
       "2016-01-21  3624.295000  1698.516667  2352.416667  1955.992500          NaN\n",
       "2016-01-22  2467.682000  2215.726000  2583.074286  2601.590000          NaN\n",
       "2016-01-23  3464.798333  2336.672500  2134.171667  2415.622000          NaN\n",
       "2016-01-24  3648.406667  2178.830000   699.263333   747.780000  1185.510000\n",
       "2016-01-25  4234.030000  3327.047500  2888.238333  2716.050000          NaN\n",
       "2016-01-26  2925.925714  1538.943750  2799.802000  1691.500000  5248.370000\n",
       "2016-01-27  2219.223333  2096.083333  1831.280000  1931.781429          NaN\n",
       "2016-01-28  2534.963750  2845.932500  4974.150000  1759.443333  2346.060000\n",
       "2016-01-29  2129.315000  1733.348750  2536.516667  2847.190000          NaN\n",
       "2016-01-30  2727.615000  2098.467500  2555.965000  2409.265000          NaN\n",
       "2016-01-31  2034.995000  2707.111250  2021.730000  1703.310000          NaN\n",
       "2016-02-01  1808.540000  2001.906667  2181.627500  3148.086000  2899.770000\n",
       "2016-02-02  3046.416000  1725.954286  2030.947000  2915.524000          NaN\n",
       "2016-03-01  1954.858000  2835.780000  1951.830000  2476.687500          NaN\n",
       "2016-03-02  1651.465000  1968.578571  2147.387500  1650.130000          NaN\n",
       "2016-04-01  1680.020000  2412.982857  2376.590000  3024.986667          NaN\n",
       "2016-04-02  1399.578571  2638.755000  2092.621667  2890.935000  1721.430000\n",
       "2016-05-01  1859.596667  2245.173333  2254.810000  2552.622000          NaN\n",
       "2016-05-02  1794.857500  1817.850000  2931.136364  1082.610000  3102.016667\n",
       "2016-06-01  2300.578333  1605.897778  3205.231429  2628.304286          NaN\n",
       "2016-06-02  3034.288182  2289.996667  2775.522500   827.208333          NaN\n",
       "2016-07-01  2412.927778  3213.734286  2805.960000   642.795000          NaN\n",
       "2016-07-02  2534.850000  2896.056667  2678.763333  2104.474545  1491.000000\n",
       "2016-08-01   803.292500  1958.610000  1839.364000  1115.956000          NaN\n",
       "2016-08-02  2084.190000  2050.194000  2803.023333  2330.200000          NaN\n",
       "2016-09-01  1225.190833  2438.078000  1833.570000  2877.388000  1398.150000\n",
       "2016-09-02  1807.445556  1761.630000  1917.033750  1729.525000          NaN\n",
       "2016-10-01  2009.740000  2378.408889  1577.294000  1823.143333          NaN\n",
       "2016-10-02  1814.753333  2575.461667  1923.068889  2559.887500          NaN\n",
       "2016-11-01  1872.420000  2642.135714  2763.780000  1791.992500          NaN\n",
       "2016-11-02  1885.607500  2425.530000  2510.187500  2452.290000  2415.960000\n",
       "2016-12-01  1234.840000  2897.877500   624.747500  2399.705000          NaN"
      ]
     },
     "metadata": {},
     "output_type": "display_data"
    }
   ],
   "source": [
    "display(df.pivot_table(index='date', columns='user_type', \n",
    "                         values='price',aggfunc=np.mean))"
   ]
  },
  {
   "cell_type": "markdown",
   "metadata": {},
   "source": [
    "- Stack a Dataframe"
   ]
  },
  {
   "cell_type": "code",
   "execution_count": 59,
   "metadata": {},
   "outputs": [
    {
     "name": "stdout",
     "output_type": "stream",
     "text": [
      "0    serial_no                            1000\n",
      "     user_id                              -101\n",
      "     product_id                              0\n",
      "     quantity_purchased                     18\n",
      "     price                             1623.49\n",
      "     user_type                               n\n",
      "     user_class                          error\n",
      "     purchase_week                           0\n",
      "1    serial_no                            1001\n",
      "     user_id                              5712\n",
      "     product_id                            694\n",
      "     quantity_purchased                     33\n",
      "     price                             1691.05\n",
      "     user_type                               n\n",
      "     user_class                          error\n",
      "     purchase_week                           0\n",
      "2    serial_no                            1002\n",
      "     user_id                              5351\n",
      "     product_id                           1095\n",
      "     quantity_purchased                     32\n",
      "     price                              488.13\n",
      "     user_type                               n\n",
      "     user_class                          error\n",
      "     purchase_week                           0\n",
      "3    serial_no                            1003\n",
      "     date                  2016-09-01 00:00:00\n",
      "     user_id                              5007\n",
      "     product_id                            269\n",
      "     quantity_purchased                      5\n",
      "     price                             1398.15\n",
      "                                  ...         \n",
      "997  serial_no                            1997\n",
      "     date                  2016-10-01 00:00:00\n",
      "     user_id                              5351\n",
      "     product_id                            976\n",
      "     quantity_purchased                     24\n",
      "     price                              226.35\n",
      "     user_type                               b\n",
      "     user_class                            new\n",
      "     purchase_week                          39\n",
      "     encoded_user_type                       1\n",
      "998  serial_no                            1998\n",
      "     date                  2016-01-18 00:00:00\n",
      "     user_id                              5899\n",
      "     product_id                           1098\n",
      "     quantity_purchased                     39\n",
      "     price                               67.59\n",
      "     user_type                               c\n",
      "     user_class                       existing\n",
      "     purchase_week                           3\n",
      "     encoded_user_type                       2\n",
      "999  serial_no                            1999\n",
      "     date                  2016-01-26 00:00:00\n",
      "     user_id                              5609\n",
      "     product_id                            424\n",
      "     quantity_purchased                     28\n",
      "     price                               25.96\n",
      "     user_type                               c\n",
      "     user_class                       existing\n",
      "     purchase_week                           4\n",
      "     encoded_user_type                       2\n",
      "Length: 9908, dtype: object\n"
     ]
    }
   ],
   "source": [
    "print(df.stack())"
   ]
  },
  {
   "cell_type": "markdown",
   "metadata": {},
   "source": [
    "# Data Visualization"
   ]
  },
  {
   "cell_type": "markdown",
   "metadata": {},
   "source": [
    "This script showcases following data vizualizations using :\n",
    "\n",
    "- pandas\n",
    "- plots and sub plots\n",
    "- histograms\n",
    "- box plots\n",
    "- scatter plots\n",
    "- timeseries\n",
    "- matplotlib"
   ]
  },
  {
   "cell_type": "code",
   "execution_count": 60,
   "metadata": {},
   "outputs": [],
   "source": [
    "#matplotlib inline\n",
    "# import required libraries\n",
    "import random\n",
    "import datetime \n",
    "import numpy as np\n",
    "import pandas as pd\n",
    "from random import randrange\n",
    "\n",
    "import matplotlib.pyplot as plt\n",
    "\n",
    "import seaborn as sns\n",
    "\n",
    "sns.set_style('whitegrid')\n",
    "sns.set_context('talk')\n",
    "\n",
    "params = {'legend.fontsize': 'small',\n",
    "          'figure.figsize': (10, 5),\n",
    "         'axes.labelsize': 'medium',\n",
    "         'axes.titlesize':'medium',\n",
    "         'xtick.labelsize':'medium',\n",
    "         'ytick.labelsize':'medium'}\n",
    "\n",
    "plt.rcParams.update(params)\n",
    "\n",
    "from IPython.display import display, HTML"
   ]
  },
  {
   "cell_type": "code",
   "execution_count": 61,
   "metadata": {},
   "outputs": [],
   "source": [
    "def _random_date(start,date_count):\n",
    "    \"\"\"This function generates a random date based on params\n",
    "    Args:\n",
    "        start (date object): the base date\n",
    "        date_count (int): number of dates to be generated\n",
    "    Returns:\n",
    "        list of random dates\n",
    "\n",
    "    \"\"\"\n",
    "    current = start\n",
    "    while date_count > 0:\n",
    "        curr = current + datetime.timedelta(days=randrange(42))\n",
    "        yield curr\n",
    "        date_count-=1\n",
    "\n",
    "\n",
    "def generate_sample_data(row_count=100):\n",
    "    \"\"\"This function generates a random transaction dataset\n",
    "    Args:\n",
    "        row_count (int): number of rows for the dataframe\n",
    "    Returns:\n",
    "        a pandas dataframe\n",
    "\n",
    "    \"\"\"\n",
    "    \n",
    "    # sentinels\n",
    "    startDate = datetime.datetime(2016, 1, 1,13)\n",
    "    serial_number_sentinel = 1000\n",
    "    user_id_sentinel = 5001\n",
    "    product_id_sentinel = 101\n",
    "    price_sentinel = 2000\n",
    "    \n",
    "    \n",
    "    # base list of attributes\n",
    "    data_dict = {\n",
    "    'Serial No': np.arange(row_count)+serial_number_sentinel,\n",
    "    'Date': np.random.permutation(pd.to_datetime([x.strftime(\"%d-%m-%Y\") \n",
    "                                                    for x in _random_date(startDate,\n",
    "                                                                          row_count)]).date\n",
    "                                  ),\n",
    "    'User ID': np.random.permutation(np.random.randint(0,\n",
    "                                                       row_count,\n",
    "                                                       size=int(row_count/10)) + user_id_sentinel).tolist()*10,\n",
    "    'Product ID': np.random.permutation(np.random.randint(0,\n",
    "                                                          row_count,\n",
    "                                                          size=int(row_count/10)) + product_id_sentinel).tolist()*10 ,\n",
    "    'Quantity Purchased': np.random.permutation(np.random.randint(1,\n",
    "                                                                  42,\n",
    "                                                                  size=row_count)),\n",
    "    'Price': np.round(np.abs(np.random.randn(row_count)+1)*price_sentinel,\n",
    "                      decimals=2),\n",
    "    'User Type':np.random.permutation([chr(random.randrange(97, 97 + 3 + 1)) \n",
    "                                            for i in range(row_count)])\n",
    "    }\n",
    "    \n",
    "    # introduce missing values\n",
    "    for index in range(int(np.sqrt(row_count))): \n",
    "        data_dict['Price'][np.argmax(data_dict['Price'] == random.choice(data_dict['Price']))] = np.nan\n",
    "        data_dict['User Type'][np.argmax(data_dict['User Type'] == random.choice(data_dict['User Type']))] = np.nan\n",
    "        data_dict['Date'][np.argmax(data_dict['Date'] == random.choice(data_dict['Date']))] = np.nan\n",
    "        data_dict['Product ID'][np.argmax(data_dict['Product ID'] == random.choice(data_dict['Product ID']))] = 0\n",
    "        data_dict['Serial No'][np.argmax(data_dict['Serial No'] == random.choice(data_dict['Serial No']))] = -1\n",
    "        data_dict['User ID'][np.argmax(data_dict['User ID'] == random.choice(data_dict['User ID']))] = -101\n",
    "        \n",
    "    \n",
    "    # create data frame\n",
    "    df = pd.DataFrame(data_dict)\n",
    "    \n",
    "    return df\n",
    "    \n",
    "    \n",
    "def cleanup_column_names(df,rename_dict={},do_inplace=True):\n",
    "    \"\"\"This function renames columns of a pandas dataframe\n",
    "       It converts column names to snake case if rename_dict is not passed. \n",
    "    Args:\n",
    "        rename_dict (dict): keys represent old column names and values point to \n",
    "                            newer ones\n",
    "        do_inplace (bool): flag to update existing dataframe or return a new one\n",
    "    Returns:\n",
    "        pandas dataframe if do_inplace is set to False, None otherwise\n",
    "\n",
    "    \"\"\"\n",
    "    if not rename_dict:\n",
    "        return df.rename(columns={col: col.lower().replace(' ','_') \n",
    "                    for col in df.columns.values.tolist()}, \n",
    "                  inplace=do_inplace)\n",
    "    else:\n",
    "        return df.rename(columns=rename_dict,inplace=do_inplace)\n",
    "\n",
    "def expand_user_type(u_type):\n",
    "    \"\"\"This function maps user types to user classes\n",
    "    Args:\n",
    "        u_type (str): user type value\n",
    "    Returns:\n",
    "        (str) user_class value\n",
    "\n",
    "    \"\"\"\n",
    "    if u_type in ['a','b']:\n",
    "        return 'new'\n",
    "    elif u_type == 'c':\n",
    "        return 'existing'\n",
    "    elif u_type == 'd':\n",
    "        return 'loyal_existing'\n",
    "    else:\n",
    "        return 'error'"
   ]
  },
  {
   "cell_type": "code",
   "execution_count": 62,
   "metadata": {},
   "outputs": [],
   "source": [
    "df = generate_sample_data(row_count=1000)\n",
    "cleanup_column_names(df)\n",
    "\n",
    "df['date'] = pd.to_datetime(df.date)\n",
    "\n",
    "\n",
    "df['user_class'] = df['user_type'].map(expand_user_type)\n",
    "\n",
    "df['purchase_week'] = df[['date']].applymap(lambda dt:dt.week \n",
    "                                            if not pd.isnull(dt.week) \n",
    "                                            else 0)\n",
    "\n",
    "df = df.dropna(subset=['date'])\n",
    "df['price'].fillna(value=np.round(df.price.mean(),decimals=2),\n",
    "                            inplace=True)"
   ]
  },
  {
   "cell_type": "code",
   "execution_count": 63,
   "metadata": {},
   "outputs": [
    {
     "data": {
      "text/html": [
       "<div>\n",
       "<style scoped>\n",
       "    .dataframe tbody tr th:only-of-type {\n",
       "        vertical-align: middle;\n",
       "    }\n",
       "\n",
       "    .dataframe tbody tr th {\n",
       "        vertical-align: top;\n",
       "    }\n",
       "\n",
       "    .dataframe thead th {\n",
       "        text-align: right;\n",
       "    }\n",
       "</style>\n",
       "<table border=\"1\" class=\"dataframe\">\n",
       "  <thead>\n",
       "    <tr style=\"text-align: right;\">\n",
       "      <th></th>\n",
       "      <th>serial_no</th>\n",
       "      <th>date</th>\n",
       "      <th>user_id</th>\n",
       "      <th>product_id</th>\n",
       "      <th>quantity_purchased</th>\n",
       "      <th>price</th>\n",
       "      <th>user_type</th>\n",
       "      <th>user_class</th>\n",
       "      <th>purchase_week</th>\n",
       "    </tr>\n",
       "  </thead>\n",
       "  <tbody>\n",
       "    <tr>\n",
       "      <th>3</th>\n",
       "      <td>1003</td>\n",
       "      <td>2016-01-27</td>\n",
       "      <td>5084</td>\n",
       "      <td>767</td>\n",
       "      <td>23</td>\n",
       "      <td>2328.93</td>\n",
       "      <td>n</td>\n",
       "      <td>error</td>\n",
       "      <td>4</td>\n",
       "    </tr>\n",
       "    <tr>\n",
       "      <th>4</th>\n",
       "      <td>1004</td>\n",
       "      <td>2016-02-01</td>\n",
       "      <td>5678</td>\n",
       "      <td>390</td>\n",
       "      <td>29</td>\n",
       "      <td>2229.66</td>\n",
       "      <td>n</td>\n",
       "      <td>error</td>\n",
       "      <td>5</td>\n",
       "    </tr>\n",
       "    <tr>\n",
       "      <th>6</th>\n",
       "      <td>1006</td>\n",
       "      <td>2016-01-23</td>\n",
       "      <td>5788</td>\n",
       "      <td>463</td>\n",
       "      <td>22</td>\n",
       "      <td>4463.00</td>\n",
       "      <td>n</td>\n",
       "      <td>error</td>\n",
       "      <td>3</td>\n",
       "    </tr>\n",
       "    <tr>\n",
       "      <th>7</th>\n",
       "      <td>1007</td>\n",
       "      <td>2016-01-15</td>\n",
       "      <td>5399</td>\n",
       "      <td>866</td>\n",
       "      <td>16</td>\n",
       "      <td>1912.42</td>\n",
       "      <td>n</td>\n",
       "      <td>error</td>\n",
       "      <td>2</td>\n",
       "    </tr>\n",
       "    <tr>\n",
       "      <th>9</th>\n",
       "      <td>1009</td>\n",
       "      <td>2016-01-02</td>\n",
       "      <td>5562</td>\n",
       "      <td>606</td>\n",
       "      <td>13</td>\n",
       "      <td>698.21</td>\n",
       "      <td>n</td>\n",
       "      <td>error</td>\n",
       "      <td>53</td>\n",
       "    </tr>\n",
       "  </tbody>\n",
       "</table>\n",
       "</div>"
      ],
      "text/plain": [
       "   serial_no       date  user_id  product_id  quantity_purchased    price  \\\n",
       "3       1003 2016-01-27     5084         767                  23  2328.93   \n",
       "4       1004 2016-02-01     5678         390                  29  2229.66   \n",
       "6       1006 2016-01-23     5788         463                  22  4463.00   \n",
       "7       1007 2016-01-15     5399         866                  16  1912.42   \n",
       "9       1009 2016-01-02     5562         606                  13   698.21   \n",
       "\n",
       "  user_type user_class  purchase_week  \n",
       "3         n      error              4  \n",
       "4         n      error              5  \n",
       "6         n      error              3  \n",
       "7         n      error              2  \n",
       "9         n      error             53  "
      ]
     },
     "metadata": {},
     "output_type": "display_data"
    }
   ],
   "source": [
    "display(df.head())"
   ]
  },
  {
   "cell_type": "markdown",
   "metadata": {},
   "source": [
    "# Visualizations\n",
    "\n",
    "## Line Charts\n"
   ]
  },
  {
   "cell_type": "code",
   "execution_count": 64,
   "metadata": {},
   "outputs": [
    {
     "data": {
      "image/png": "[encoded data removed]",
      "text/plain": [
       "<Figure size 432x288 with 1 Axes>"
      ]
     },
     "metadata": {
      "needs_background": "light"
     },
     "output_type": "display_data"
    }
   ],
   "source": [
    "max_user_id = df.user_id.value_counts().index[0]\n",
    "df[df.user_id == max_user_id][['price']].plot(style='blue')\n",
    "plt.title('Price Trends for Particular User')\n",
    "plt.show()"
   ]
  },
  {
   "cell_type": "code",
   "execution_count": 65,
   "metadata": {},
   "outputs": [
    {
     "data": {
      "image/png": "[encoded data removed]",
      "text/plain": [
       "<Figure size 432x288 with 1 Axes>"
      ]
     },
     "metadata": {
      "needs_background": "light"
     },
     "output_type": "display_data"
    }
   ],
   "source": [
    "df[df.user_id == max_user_id].plot(x='date',y='price',style='blue')   \n",
    "plt.title('Price Trends for Particular User Over Time')\n",
    "plt.show()"
   ]
  },
  {
   "cell_type": "markdown",
   "metadata": {},
   "source": [
    "## Bar plot"
   ]
  },
  {
   "cell_type": "code",
   "execution_count": 66,
   "metadata": {},
   "outputs": [
    {
     "data": {
      "image/png": "[encoded data removed]",
      "text/plain": [
       "<Figure size 432x288 with 1 Axes>"
      ]
     },
     "metadata": {
      "needs_background": "light"
     },
     "output_type": "display_data"
    }
   ],
   "source": [
    "df[['purchase_week',\n",
    "    'quantity_purchased']].groupby('purchase_week').sum().plot.barh(\n",
    "                                                            color='green')\n",
    "plt.title('Quantities Purchased per Week')\n",
    "plt.show()"
   ]
  },
  {
   "cell_type": "markdown",
   "metadata": {},
   "source": [
    "## Histograms"
   ]
  },
  {
   "cell_type": "code",
   "execution_count": 67,
   "metadata": {},
   "outputs": [
    {
     "data": {
      "image/png": "[encoded data removed]",
      "text/plain": [
       "<Figure size 432x288 with 1 Axes>"
      ]
     },
     "metadata": {
      "needs_background": "light"
     },
     "output_type": "display_data"
    }
   ],
   "source": [
    "df.price.hist(color='blue')\n",
    "plt.title('Price Distribution')\n",
    "plt.show()"
   ]
  },
  {
   "cell_type": "code",
   "execution_count": 69,
   "metadata": {},
   "outputs": [
    {
     "data": {
      "image/png": "[encoded data removed]",
      "text/plain": [
       "<Figure size 432x288 with 16 Axes>"
      ]
     },
     "metadata": {
      "needs_background": "light"
     },
     "output_type": "display_data"
    }
   ],
   "source": [
    "df[['price','purchase_week']].hist(by='purchase_week',sharex=True)\n",
    "#plt.title('Price Distribution per Week')\n",
    "plt.show()"
   ]
  },
  {
   "cell_type": "markdown",
   "metadata": {},
   "source": [
    "## Pie Chart"
   ]
  },
  {
   "cell_type": "code",
   "execution_count": 70,
   "metadata": {},
   "outputs": [
    {
     "data": {
      "image/png": "[encoded data removed]",
      "text/plain": [
       "<Figure size 432x288 with 1 Axes>"
      ]
     },
     "metadata": {},
     "output_type": "display_data"
    }
   ],
   "source": [
    "class_series = df.groupby('user_class').size()\n",
    "class_series.name = 'User Class Distribution'\n",
    "class_series.plot.pie(autopct='%.2f')\n",
    "plt.title('User Class Share')\n",
    "plt.show()"
   ]
  },
  {
   "cell_type": "markdown",
   "metadata": {},
   "source": [
    "## Box Plot"
   ]
  },
  {
   "cell_type": "code",
   "execution_count": 71,
   "metadata": {},
   "outputs": [
    {
     "data": {
      "image/png": "[encoded data removed]",
      "text/plain": [
       "<Figure size 432x288 with 1 Axes>"
      ]
     },
     "metadata": {
      "needs_background": "light"
     },
     "output_type": "display_data"
    }
   ],
   "source": [
    "df[['quantity_purchased','purchase_week']].plot.box()\n",
    "plt.title('Quantity and Week value distribution')\n",
    "plt.show()"
   ]
  },
  {
   "cell_type": "markdown",
   "metadata": {},
   "source": [
    "## Bubble Charts"
   ]
  },
  {
   "cell_type": "code",
   "execution_count": 72,
   "metadata": {},
   "outputs": [
    {
     "data": {
      "image/png": "[encoded data removed]",
      "text/plain": [
       "<Figure size 432x288 with 1 Axes>"
      ]
     },
     "metadata": {
      "needs_background": "light"
     },
     "output_type": "display_data"
    }
   ],
   "source": [
    "\n",
    "# bubble\n",
    "uclass_map = {'new': 1, 'existing': 2, 'loyal_existing': 3,'error':0}\n",
    "df['enc_uclass'] = df.user_class.map(uclass_map) \n",
    "bubble_df = df[['enc_uclass',\n",
    "                'purchase_week',\n",
    "                'price','product_id']].groupby(['purchase_week',\n",
    "                                                'enc_uclass']).agg({'price':'mean',\n",
    "                                                                    'product_id':'count'}).reset_index()\n",
    "bubble_df.rename(columns={'product_id':'total_transactions'},inplace=True)\n",
    "\n",
    "\n",
    "bubble_df.plot.scatter(x='purchase_week',\n",
    "                       y='price')\n",
    "plt.title('Purchase Week Vs Price ')\n",
    "plt.show()"
   ]
  },
  {
   "cell_type": "code",
   "execution_count": 73,
   "metadata": {},
   "outputs": [
    {
     "data": {
      "image/png": "[encoded data removed]",
      "text/plain": [
       "<Figure size 432x288 with 1 Axes>"
      ]
     },
     "metadata": {
      "needs_background": "light"
     },
     "output_type": "display_data"
    }
   ],
   "source": [
    "bubble_df.plot.scatter(x='purchase_week',\n",
    "                       y='price',\n",
    "                       c=bubble_df['enc_uclass']) \n",
    "plt.title('Purchase Week Vs Price Per User Class')                       \n",
    "plt.show()"
   ]
  },
  {
   "cell_type": "code",
   "execution_count": 74,
   "metadata": {},
   "outputs": [
    {
     "data": {
      "image/png": "[encoded data removed]",
      "text/plain": [
       "<Figure size 432x288 with 1 Axes>"
      ]
     },
     "metadata": {
      "needs_background": "light"
     },
     "output_type": "display_data"
    }
   ],
   "source": [
    "bubble_df.plot.scatter(x='purchase_week',\n",
    "                       y='price',\n",
    "                       c=bubble_df['enc_uclass'],\n",
    "                       s=bubble_df['total_transactions']*10)\n",
    "plt.title('Purchase Week Vs Price Per User Class Based on Tx')                          \n",
    "plt.show()"
   ]
  },
  {
   "cell_type": "markdown",
   "metadata": {},
   "source": [
    "## Figures and Subplots"
   ]
  },
  {
   "cell_type": "markdown",
   "metadata": {},
   "source": [
    "- This notebook showcases visualizations using matplotlib"
   ]
  },
  {
   "cell_type": "code",
   "execution_count": 75,
   "metadata": {},
   "outputs": [],
   "source": [
    "# import required libraries\n",
    "import numpy as np\n",
    "import matplotlib.pyplot as plt\n",
    "\n",
    "params = {'legend.fontsize': 'x-large',\n",
    "          'figure.figsize': (15, 5),\n",
    "         'axes.labelsize': 'x-large',\n",
    "         'axes.titlesize':'x-large',\n",
    "         'xtick.labelsize':'x-large',\n",
    "         'ytick.labelsize':'x-large'}\n",
    "\n",
    "plt.rcParams.update(params)\n",
    "%matplotlib inline"
   ]
  },
  {
   "cell_type": "code",
   "execution_count": 76,
   "metadata": {},
   "outputs": [
    {
     "data": {
      "image/png": "[encoded data removed]",
      "text/plain": [
       "<Figure size 432x288 with 1 Axes>"
      ]
     },
     "metadata": {
      "needs_background": "light"
     },
     "output_type": "display_data"
    }
   ],
   "source": [
    "# sample plot\n",
    "x = np.linspace(-10, 10, 50)\n",
    "y=np.sin(x)\n",
    "\n",
    "plt.plot(x,y)\n",
    "plt.title('Sine Curve using matplotlib')\n",
    "plt.xlabel('x-axis')\n",
    "plt.ylabel('y-axis')\n",
    "plt.show()"
   ]
  },
  {
   "cell_type": "code",
   "execution_count": 77,
   "metadata": {},
   "outputs": [
    {
     "data": {
      "image/png": "[encoded data removed]",
      "text/plain": [
       "<Figure size 432x288 with 1 Axes>"
      ]
     },
     "metadata": {
      "needs_background": "light"
     },
     "output_type": "display_data"
    },
    {
     "data": {
      "image/png": "[encoded data removed]",
      "text/plain": [
       "<Figure size 432x288 with 1 Axes>"
      ]
     },
     "metadata": {
      "needs_background": "light"
     },
     "output_type": "display_data"
    }
   ],
   "source": [
    "# first figure\n",
    "plt.figure(1)\n",
    "plt.plot(x,y)\n",
    "plt.title('Fig1: Sine Curve')\n",
    "plt.xlabel('x-axis')\n",
    "plt.ylabel('y-axis')\n",
    "plt.show()\n",
    "\n",
    "plt.figure(2)\n",
    "y=np.cos(x)\n",
    "plt.plot(x,y)\n",
    "plt.title('Fig2: Cosine Curve')\n",
    "plt.xlabel('x-axis')\n",
    "plt.ylabel('y-axis')\n",
    "plt.show()"
   ]
  },
  {
   "cell_type": "code",
   "execution_count": 78,
   "metadata": {},
   "outputs": [
    {
     "data": {
      "image/png": "[encoded data removed]",
      "text/plain": [
       "<Figure size 576x432 with 4 Axes>"
      ]
     },
     "metadata": {
      "needs_background": "light"
     },
     "output_type": "display_data"
    }
   ],
   "source": [
    "# fig.add_subplot\n",
    "y = np.sin(x)\n",
    "figure_obj = plt.figure(figsize=(8, 6))\n",
    "ax1 = figure_obj.add_subplot(2,2,1)\n",
    "ax1.plot(x,y)\n",
    "\n",
    "ax2 = figure_obj.add_subplot(2,2,2)\n",
    "ax3 = figure_obj.add_subplot(2,2,3)\n",
    "\n",
    "ax4 = figure_obj.add_subplot(2,2,4)\n",
    "ax4.plot(x+10,y)\n",
    "plt.show()"
   ]
  },
  {
   "cell_type": "code",
   "execution_count": 79,
   "metadata": {},
   "outputs": [
    {
     "data": {
      "image/png": "[encoded data removed]",
      "text/plain": [
       "<Figure size 576x432 with 2 Axes>"
      ]
     },
     "metadata": {
      "needs_background": "light"
     },
     "output_type": "display_data"
    }
   ],
   "source": [
    "\n",
    "# plt.subplots\n",
    "fig, ax_list = plt.subplots(2,1,sharex=True, figsize=(8, 6))\n",
    "y= np.sin(x)\n",
    "ax_list[0].plot(x,y)\n",
    "\n",
    "y= np.cos(x)\n",
    "ax_list[1].plot(x,y)\n",
    "plt.show()"
   ]
  },
  {
   "cell_type": "code",
   "execution_count": 80,
   "metadata": {},
   "outputs": [
    {
     "data": {
      "image/png": "[encoded data removed]",
      "text/plain": [
       "<Figure size 432x288 with 3 Axes>"
      ]
     },
     "metadata": {
      "needs_background": "light"
     },
     "output_type": "display_data"
    }
   ],
   "source": [
    "# subplot2grid\n",
    "y = np.abs(x)\n",
    "z = x**2\n",
    "\n",
    "plt.subplot2grid((4,3), (0, 0), rowspan=4, colspan=2)\n",
    "plt.plot(x, y,'b',x,z,'r')\n",
    "\n",
    "ax2 = plt.subplot2grid((4,3), (0, 2),rowspan=2)\n",
    "plt.plot(x, y,'b')\n",
    "plt.setp(ax2.get_xticklabels(), visible=False)\n",
    "\n",
    "plt.subplot2grid((4,3), (2, 2), rowspan=2)\n",
    "plt.plot(x, z,'r')\n",
    "\n",
    "plt.show()"
   ]
  },
  {
   "cell_type": "markdown",
   "metadata": {},
   "source": [
    "## Plot Formatting\n",
    "\n",
    "- Line Color\n",
    "- Line Style\n",
    "- Data Marker\n",
    "- Line Width\n",
    "- Alpha Level/Transparency\n",
    "- Shorthand notation"
   ]
  },
  {
   "cell_type": "code",
   "execution_count": 81,
   "metadata": {},
   "outputs": [],
   "source": [
    "y = x"
   ]
  },
  {
   "cell_type": "code",
   "execution_count": 82,
   "metadata": {},
   "outputs": [
    {
     "data": {
      "image/png": "[encoded data removed]",
      "text/plain": [
       "<Figure size 432x1080 with 6 Axes>"
      ]
     },
     "metadata": {
      "needs_background": "light"
     },
     "output_type": "display_data"
    }
   ],
   "source": [
    "# color\n",
    "ax1 = plt.subplot(611)\n",
    "plt.plot(x,y,color='green')\n",
    "ax1.set_title('Line Color')\n",
    "plt.setp(ax1.get_xticklabels(), visible=False)\n",
    "\n",
    "# linestyle\n",
    "# linestyles -> '-','--','-.', ':', 'steps'\n",
    "ax2 = plt.subplot(612,sharex=ax1)\n",
    "plt.plot(x,y,linestyle='--')\n",
    "ax2.set_title('Line Style')\n",
    "plt.setp(ax2.get_xticklabels(), visible=False)\n",
    "\n",
    "# marker\n",
    "# markers -> '+', 'o', '*', 's', ',', '.', etc\n",
    "ax3 = plt.subplot(613,sharex=ax1)\n",
    "plt.plot(x,y,marker='*')\n",
    "ax3.set_title('Point Marker')\n",
    "plt.setp(ax3.get_xticklabels(), visible=False)\n",
    "\n",
    "# line width\n",
    "ax4 = plt.subplot(614,sharex=ax1)\n",
    "line = plt.plot(x,y)\n",
    "line[0].set_linewidth(3.0)\n",
    "ax4.set_title('Line Width')\n",
    "plt.setp(ax4.get_xticklabels(), visible=False)\n",
    "\n",
    "# alpha\n",
    "ax5 = plt.subplot(615,sharex=ax1)\n",
    "alpha = plt.plot(x,y)\n",
    "alpha[0].set_alpha(0.3)\n",
    "ax5.set_title('Line Alpha')\n",
    "plt.setp(ax5.get_xticklabels(), visible=False)\n",
    "\n",
    "# combine linestyle\n",
    "ax6 = plt.subplot(616,sharex=ax1)\n",
    "plt.plot(x,y,'b^')\n",
    "ax6.set_title('Styling Shorthand')\n",
    "\n",
    "fig = plt.gcf()\n",
    "fig.set_figheight(15)\n",
    "plt.show()"
   ]
  },
  {
   "cell_type": "markdown",
   "metadata": {},
   "source": [
    "## Legends"
   ]
  },
  {
   "cell_type": "code",
   "execution_count": 83,
   "metadata": {},
   "outputs": [
    {
     "data": {
      "image/png": "[encoded data removed]",
      "text/plain": [
       "<Figure size 432x288 with 1 Axes>"
      ]
     },
     "metadata": {
      "needs_background": "light"
     },
     "output_type": "display_data"
    }
   ],
   "source": [
    "# legends\n",
    "y = x**2\n",
    "z = x\n",
    "\n",
    "plt.plot(x,y,'g',label='y=x^2')\n",
    "plt.plot(x,z,'b:',label='y=x')\n",
    "plt.legend(loc=\"best\")\n",
    "plt.title('Legend Sample')\n",
    "plt.show()"
   ]
  },
  {
   "cell_type": "code",
   "execution_count": 84,
   "metadata": {},
   "outputs": [
    {
     "data": {
      "image/png": "[encoded data removed]",
      "text/plain": [
       "<Figure size 432x288 with 1 Axes>"
      ]
     },
     "metadata": {
      "needs_background": "light"
     },
     "output_type": "display_data"
    }
   ],
   "source": [
    "# legend with latex formatting\n",
    "plt.plot(x,y,'g',label='$y = x^2$')\n",
    "plt.plot(x,z,'b:',linewidth=3,label='$y = x^2$')\n",
    "plt.legend(loc=\"best\",fontsize='x-large')\n",
    "plt.title('Legend with LaTEX formatting')\n",
    "plt.show()"
   ]
  },
  {
   "cell_type": "markdown",
   "metadata": {},
   "source": [
    "# Axis Controls\n"
   ]
  },
  {
   "cell_type": "code",
   "execution_count": 85,
   "metadata": {},
   "outputs": [
    {
     "data": {
      "image/png": "[encoded data removed]",
      "text/plain": [
       "<Figure size 432x288 with 2 Axes>"
      ]
     },
     "metadata": {
      "needs_background": "light"
     },
     "output_type": "display_data"
    }
   ],
   "source": [
    "\n",
    "## axis controls\n",
    "# secondary y-axis\n",
    "fig, ax1 = plt.subplots()\n",
    "ax1.plot(x,y,'g')\n",
    "ax1.set_ylabel(r\"primary y-axis\", color=\"green\")\n",
    "\n",
    "ax2 = ax1.twinx()\n",
    "\n",
    "ax2.plot(x,z,'b:',linewidth=3)\n",
    "ax2.set_ylabel(r\"secondary y-axis\", color=\"blue\")\n",
    "\n",
    "plt.title('Secondary Y Axis')\n",
    "plt.show()"
   ]
  },
  {
   "cell_type": "code",
   "execution_count": 86,
   "metadata": {},
   "outputs": [
    {
     "name": "stderr",
     "output_type": "stream",
     "text": [
      "C:\\Users\\Shashi Surya\\Anaconda3\\lib\\site-packages\\ipykernel_launcher.py:2: RuntimeWarning: invalid value encountered in log\n",
      "  \n",
      "C:\\Users\\Shashi Surya\\Anaconda3\\lib\\site-packages\\ipykernel_launcher.py:3: RuntimeWarning: invalid value encountered in log2\n",
      "  This is separate from the ipykernel package so we can avoid doing imports until\n",
      "C:\\Users\\Shashi Surya\\Anaconda3\\lib\\site-packages\\ipykernel_launcher.py:4: RuntimeWarning: invalid value encountered in log10\n",
      "  after removing the cwd from sys.path.\n"
     ]
    },
    {
     "data": {
      "image/png": "[encoded data removed]",
      "text/plain": [
       "<Figure size 432x288 with 1 Axes>"
      ]
     },
     "metadata": {
      "needs_background": "light"
     },
     "output_type": "display_data"
    }
   ],
   "source": [
    "# ticks\n",
    "y = np.log(x)\n",
    "z = np.log2(x)\n",
    "w = np.log10(x)\n",
    "\n",
    "plt.plot(x,y,'r',x,z,'g',x,w,'b')\n",
    "plt.title('Default Axis Ticks') \n",
    "plt.show()"
   ]
  },
  {
   "cell_type": "code",
   "execution_count": 87,
   "metadata": {},
   "outputs": [
    {
     "data": {
      "image/png": "[encoded data removed]",
      "text/plain": [
       "<Figure size 432x288 with 1 Axes>"
      ]
     },
     "metadata": {
      "needs_background": "light"
     },
     "output_type": "display_data"
    }
   ],
   "source": [
    "# manual\n",
    "plt.plot(x,y,'r',x,z,'g',x,w,'b')\n",
    "plt.axis([0,2,-1,2])\n",
    "plt.title('Manual Axis Range') \n",
    "plt.show()"
   ]
  },
  {
   "cell_type": "code",
   "execution_count": 88,
   "metadata": {},
   "outputs": [
    {
     "data": {
      "image/png": "[encoded data removed]",
      "text/plain": [
       "<Figure size 432x288 with 1 Axes>"
      ]
     },
     "metadata": {
      "needs_background": "light"
     },
     "output_type": "display_data"
    }
   ],
   "source": [
    "# Manual ticks      \n",
    "plt.plot(x, y)\n",
    "ax = plt.gca()\n",
    "ax.xaxis.set_ticks(np.arange(-2, 2, 1))\n",
    "plt.grid(True)\n",
    "plt.title(\"Manual ticks on the x-axis\")\n",
    "plt.show()"
   ]
  },
  {
   "cell_type": "code",
   "execution_count": 89,
   "metadata": {},
   "outputs": [
    {
     "data": {
      "image/png": "[encoded data removed]",
      "text/plain": [
       "<Figure size 432x288 with 1 Axes>"
      ]
     },
     "metadata": {
      "needs_background": "light"
     },
     "output_type": "display_data"
    }
   ],
   "source": [
    "\n",
    "# minor ticks\n",
    "plt.plot(x, z)\n",
    "plt.minorticks_on()\n",
    "ax = plt.gca()\n",
    "ax.yaxis.set_ticks(np.arange(0, 5))\n",
    "ax.yaxis.set_ticklabels([\"min\", 2, 4, \"max\"])\n",
    "plt.title(\"Minor ticks on the y-axis\")   \n",
    "plt.show()"
   ]
  },
  {
   "cell_type": "code",
   "execution_count": 90,
   "metadata": {},
   "outputs": [
    {
     "data": {
      "image/png": "[encoded data removed]",
      "text/plain": [
       "<Figure size 432x288 with 1 Axes>"
      ]
     },
     "metadata": {
      "needs_background": "light"
     },
     "output_type": "display_data"
    }
   ],
   "source": [
    "\n",
    "# scaling\n",
    "plt.plot(x, y)\n",
    "ax = plt.gca()\n",
    "# values: log, logit, symlog\n",
    "ax.set_yscale(\"log\")\n",
    "plt.grid(True)\n",
    "plt.title(\"Log Scaled Axis\")\n",
    "plt.show()"
   ]
  },
  {
   "cell_type": "markdown",
   "metadata": {},
   "source": [
    "# Annotations"
   ]
  },
  {
   "cell_type": "code",
   "execution_count": 91,
   "metadata": {},
   "outputs": [
    {
     "data": {
      "image/png": "[encoded data removed]",
      "text/plain": [
       "<Figure size 432x288 with 1 Axes>"
      ]
     },
     "metadata": {
      "needs_background": "light"
     },
     "output_type": "display_data"
    }
   ],
   "source": [
    "\n",
    "# annotations\n",
    "y = x**2\n",
    "min_x = 0\n",
    "min_y = min_x**2\n",
    "\n",
    "plt.plot(x, y, \"b-\", min_x, min_y, \"ro\")\n",
    "plt.axis([-10,10,-25,100])\n",
    "\n",
    "plt.text(0, 60, \"Parabola\\n$y = x^2$\", fontsize=15, ha=\"center\")\n",
    "plt.text(min_x, min_y+2, \"Minima\", ha=\"center\")\n",
    "plt.text(min_x, min_y-6, \"(%0.1f, %0.1f)\"%(min_x, min_y), ha='center',color='gray')\n",
    "plt.title(\"Annotated Plot\")\n",
    "plt.show()"
   ]
  },
  {
   "cell_type": "code",
   "execution_count": 92,
   "metadata": {},
   "outputs": [],
   "source": [
    "# global formatting params\n",
    "params = {'legend.fontsize': 'large',\n",
    "'figure.figsize': (10, 10),\n",
    "'axes.labelsize': 'large',\n",
    "'axes.titlesize':'large',\n",
    "'xtick.labelsize':'large',\n",
    "'ytick.labelsize':'large'}\n",
    "plt.rcParams.update(params)"
   ]
  },
  {
   "cell_type": "code",
   "execution_count": null,
   "metadata": {},
   "outputs": [],
   "source": []
  }
 ],
 "metadata": {
  "kernelspec": {
   "display_name": "Python 3",
   "language": "python",
   "name": "python3"
  },
  "language_info": {
   "codemirror_mode": {
    "name": "ipython",
    "version": 3
   },
   "file_extension": ".py",
   "mimetype": "text/x-python",
   "name": "python",
   "nbconvert_exporter": "python",
   "pygments_lexer": "ipython3",
   "version": "3.7.3"
  }
 },
 "nbformat": 4,
 "nbformat_minor": 2
}
